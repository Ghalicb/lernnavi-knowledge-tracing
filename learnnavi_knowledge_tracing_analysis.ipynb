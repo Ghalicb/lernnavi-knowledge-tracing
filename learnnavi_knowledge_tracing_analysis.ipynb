{
 "cells": [
  {
   "cell_type": "markdown",
   "id": "8af48ca1-b6d1-4092-b7b5-037d3c2d7aef",
   "metadata": {
    "id": "8af48ca1-b6d1-4092-b7b5-037d3c2d7aef"
   },
   "source": [
    "# M7 | Research Investigation Notebook\n",
    "\n",
    "In this notebook, we will do a research investigation on Learnavi data. We start by stating our research question (1), then processing our data (1), creating different predictive model (2), and finally evaluating our models' results (3).\n",
    "\n",
    "\n",
    "## Brief overview of Lernnavi\n",
    "[Lernnavi](https://www.lernnavi.ch) is an instrument for promoting part of the basic technical study skills in German and Mathematics.\n",
    "\n",
    "Lernnavi's dataset is formatted in three main tables:\n",
    "* *users*: demographic information of users.\n",
    "* *events*: events done by the users in the platform.\n",
    "* *transactions*: question and answer solved by user."
   ]
  },
  {
   "cell_type": "markdown",
   "id": "89137355",
   "metadata": {
    "id": "89137355"
   },
   "source": [
    "## 0 - Research Question\n",
    "\n",
    "[Research question Google Doc](https://docs.google.com/document/d/192In6j2Mvgf9qK5lWxupOTO15M5YGBCbqpN4y4DoGIo/edit)"
   ]
  },
  {
   "cell_type": "markdown",
   "id": "31dafc5b",
   "metadata": {
    "id": "31dafc5b"
   },
   "source": [
    "**Research question:** How are the users learning mathematics on Lernnavi? Are there differences between different topics? "
   ]
  },
  {
   "cell_type": "markdown",
   "id": "a77f62b0-1945-48f1-8f22-5f6ebda1db8e",
   "metadata": {
    "id": "a77f62b0-1945-48f1-8f22-5f6ebda1db8e"
   },
   "source": [
    "## 1 - Data Preprocessing\n",
    "\n",
    "In this section, we perform all the preprocessing steps relevant for building our models. We also provide some visualizations of features / data explorations that are related to our downstream prediction task."
   ]
  },
  {
   "cell_type": "markdown",
   "id": "76d0fcca-686e-47a3-8567-c3f92db187d4",
   "metadata": {
    "id": "76d0fcca-686e-47a3-8567-c3f92db187d4"
   },
   "source": [
    "Here are the main preprocessing decision we made on our data:\n",
    "\n",
    "* We consider only the mathematics part of Learnavi data. We assume that mathematics data and german data may behave very differently.\n",
    "* We build a graph of mathematical topics. Our aim is to take the parent nodes as the skills and therefore we consider the leaves of a same parent node as training the same skill. We can then compare this approach with the one when we consider each leave as a skill.\n",
    "* As we needed to have binary evaluations (either 0 or 1) for most of our models in the first setting, we decided to treat partially correct answers as wrong. This decision is supported by the fact that it is easier to be partially correct by chance (e.g. by ticking one of the correct answers by chance) than to accidentaly tick an incorrect choice when mastering a skill."
   ]
  },
  {
   "cell_type": "code",
   "execution_count": 1,
   "id": "l9b87lRoNOJl",
   "metadata": {
    "colab": {
     "base_uri": "https://localhost:8080/"
    },
    "id": "l9b87lRoNOJl",
    "outputId": "8fb7142d-bfb9-4723-80bf-b2d7873fc26a"
   },
   "outputs": [],
   "source": [
    "# ! pip install optuna\n",
    "# ! pip install pyBKT\n",
    "# ! pip install pymer4"
   ]
  },
  {
   "cell_type": "code",
   "execution_count": 2,
   "id": "82ea2d32-f0a9-4dc9-bb60-be43399f5b89",
   "metadata": {
    "id": "82ea2d32-f0a9-4dc9-bb60-be43399f5b89"
   },
   "outputs": [],
   "source": [
    "# Import the tables of the data set as dataframes.\n",
    "import numpy as np\n",
    "import pandas as pd\n",
    "import matplotlib.pyplot as plt\n",
    "import networkx as nx\n",
    "import seaborn as sns\n",
    "import tensorflow as tf\n",
    "import optuna\n",
    "import warnings\n",
    "\n",
    "from optuna.samplers import TPESampler\n",
    "from sklearn.model_selection import GroupShuffleSplit, GroupKFold\n",
    "from sklearn.metrics import mean_squared_error, roc_auc_score\n",
    "from pyBKT.models import Model\n",
    "from pymer4.models import Lmer\n",
    "from helpers import *\n",
    "\n",
    "\n",
    "# Mute warnings after checking that they are not a problem in our code\n",
    "warnings.filterwarnings('ignore')\n",
    "pd.options.mode.chained_assignment = None  # default='warn'\n",
    "\n",
    "pd.set_option('display.max_columns', 500)\n",
    "\n",
    "DATA_DIR = './../data' # You may change the directory\n",
    "RUN_OPTUNA = False # whether to run hyperparameter tuning (will take a long time if True)\n",
    "SAVE_GRAPH = False # to avoid library issues; for exporting the graph image\n",
    "\n",
    "users = pd.read_csv('{}/users.csv.gz'.format(DATA_DIR))\n",
    "events = pd.read_csv('{}/events.csv.gz'.format(DATA_DIR))\n",
    "transactions = pd.read_csv('{}/transactions.csv.gz'.format(DATA_DIR))\n",
    "documents = pd.read_csv('{}/documents.csv.gz'.format(DATA_DIR))\n",
    "topic_trees = pd.read_csv('{}/topic_trees.csv.gz'.format(DATA_DIR))\n",
    "topics_translated = pd.read_csv('{}/topics_translated.csv.gz'.format(DATA_DIR))"
   ]
  },
  {
   "cell_type": "markdown",
   "id": "7b6e706d",
   "metadata": {
    "id": "7b6e706d"
   },
   "source": [
    "### 1.1 Graph of topics\n",
    "\n",
    "We start by building a graph of the topics. They have a hierarchical structure which we will exploit in order to group similar topics together. This way we will avoid data sparsity."
   ]
  },
  {
   "cell_type": "code",
   "execution_count": 3,
   "id": "2112f096",
   "metadata": {
    "colab": {
     "base_uri": "https://localhost:8080/",
     "height": 373
    },
    "id": "2112f096",
    "outputId": "75800edb-6b11-4ca5-9af6-3ef46adbd063"
   },
   "outputs": [
    {
     "name": "stdout",
     "output_type": "stream",
     "text": [
      "Number of math topics:  298\n"
     ]
    },
    {
     "data": {
      "text/html": [
       "<div>\n",
       "<style scoped>\n",
       "    .dataframe tbody tr th:only-of-type {\n",
       "        vertical-align: middle;\n",
       "    }\n",
       "\n",
       "    .dataframe tbody tr th {\n",
       "        vertical-align: top;\n",
       "    }\n",
       "\n",
       "    .dataframe thead th {\n",
       "        text-align: right;\n",
       "    }\n",
       "</style>\n",
       "<table border=\"1\" class=\"dataframe\">\n",
       "  <thead>\n",
       "    <tr style=\"text-align: right;\">\n",
       "      <th></th>\n",
       "      <th>id</th>\n",
       "      <th>name</th>\n",
       "      <th>description</th>\n",
       "      <th>name_english</th>\n",
       "      <th>description_english</th>\n",
       "      <th>math</th>\n",
       "    </tr>\n",
       "  </thead>\n",
       "  <tbody>\n",
       "    <tr>\n",
       "      <th>3</th>\n",
       "      <td>109</td>\n",
       "      <td>Mathematik</td>\n",
       "      <td>Rechnen und so...</td>\n",
       "      <td>mathematics</td>\n",
       "      <td>Expect and so ...</td>\n",
       "      <td>1.00000</td>\n",
       "    </tr>\n",
       "    <tr>\n",
       "      <th>4</th>\n",
       "      <td>950</td>\n",
       "      <td>Zahlen und Zahlenmengen</td>\n",
       "      <td>NaN</td>\n",
       "      <td>Numbers and number quantities</td>\n",
       "      <td>NaN</td>\n",
       "      <td>1.00000</td>\n",
       "    </tr>\n",
       "    <tr>\n",
       "      <th>5</th>\n",
       "      <td>951</td>\n",
       "      <td>Zahlenmengen</td>\n",
       "      <td>Die Schülerinnen und Schüler kennen die Zahlen...</td>\n",
       "      <td>Quantities</td>\n",
       "      <td>The students know the number of numbers and th...</td>\n",
       "      <td>1.00000</td>\n",
       "    </tr>\n",
       "    <tr>\n",
       "      <th>6</th>\n",
       "      <td>952</td>\n",
       "      <td>Brüche - Grundrechenarten</td>\n",
       "      <td>Die Schülerinnen und Schüler können Grundreche...</td>\n",
       "      <td>Breaks - Basic Computer</td>\n",
       "      <td>The students can perform basic work in the rat...</td>\n",
       "      <td>1.00000</td>\n",
       "    </tr>\n",
       "    <tr>\n",
       "      <th>7</th>\n",
       "      <td>953</td>\n",
       "      <td>Brüche - Addition, Subtraktion</td>\n",
       "      <td>Sie können Additionen und Subtraktionen mit Br...</td>\n",
       "      <td>Breaks - Addition, Subtraction</td>\n",
       "      <td>You can execute additions and subtractions wit...</td>\n",
       "      <td>1.00000</td>\n",
       "    </tr>\n",
       "  </tbody>\n",
       "</table>\n",
       "</div>"
      ],
      "text/plain": [
       "    id                            name  \\\n",
       "3  109                      Mathematik   \n",
       "4  950         Zahlen und Zahlenmengen   \n",
       "5  951                    Zahlenmengen   \n",
       "6  952       Brüche - Grundrechenarten   \n",
       "7  953  Brüche - Addition, Subtraktion   \n",
       "\n",
       "                                         description  \\\n",
       "3                                  Rechnen und so...   \n",
       "4                                                NaN   \n",
       "5  Die Schülerinnen und Schüler kennen die Zahlen...   \n",
       "6  Die Schülerinnen und Schüler können Grundreche...   \n",
       "7  Sie können Additionen und Subtraktionen mit Br...   \n",
       "\n",
       "                     name_english  \\\n",
       "3                     mathematics   \n",
       "4   Numbers and number quantities   \n",
       "5                      Quantities   \n",
       "6         Breaks - Basic Computer   \n",
       "7  Breaks - Addition, Subtraction   \n",
       "\n",
       "                                 description_english    math  \n",
       "3                                  Expect and so ... 1.00000  \n",
       "4                                                NaN 1.00000  \n",
       "5  The students know the number of numbers and th... 1.00000  \n",
       "6  The students can perform basic work in the rat... 1.00000  \n",
       "7  You can execute additions and subtractions wit... 1.00000  "
      ]
     },
     "execution_count": 3,
     "metadata": {},
     "output_type": "execute_result"
    }
   ],
   "source": [
    "math_topics = topics_translated[topics_translated.math == 1]\n",
    "print(\"Number of math topics: \", math_topics.id.nunique())\n",
    "math_topics.head()"
   ]
  },
  {
   "cell_type": "code",
   "execution_count": 4,
   "id": "899c2ead",
   "metadata": {
    "colab": {
     "base_uri": "https://localhost:8080/",
     "height": 206
    },
    "id": "899c2ead",
    "outputId": "c9d1f742-a383-46bd-d456-941e17fd4d3b"
   },
   "outputs": [
    {
     "data": {
      "text/html": [
       "<div>\n",
       "<style scoped>\n",
       "    .dataframe tbody tr th:only-of-type {\n",
       "        vertical-align: middle;\n",
       "    }\n",
       "\n",
       "    .dataframe tbody tr th {\n",
       "        vertical-align: top;\n",
       "    }\n",
       "\n",
       "    .dataframe thead th {\n",
       "        text-align: right;\n",
       "    }\n",
       "</style>\n",
       "<table border=\"1\" class=\"dataframe\">\n",
       "  <thead>\n",
       "    <tr style=\"text-align: right;\">\n",
       "      <th></th>\n",
       "      <th>id</th>\n",
       "      <th>parent_id</th>\n",
       "      <th>child_id</th>\n",
       "      <th>sibling_rank</th>\n",
       "      <th>displayed_on_dashboard</th>\n",
       "    </tr>\n",
       "  </thead>\n",
       "  <tbody>\n",
       "    <tr>\n",
       "      <th>0</th>\n",
       "      <td>1059</td>\n",
       "      <td>NaN</td>\n",
       "      <td>1</td>\n",
       "      <td>1</td>\n",
       "      <td>1</td>\n",
       "    </tr>\n",
       "    <tr>\n",
       "      <th>1</th>\n",
       "      <td>1060</td>\n",
       "      <td>NaN</td>\n",
       "      <td>109</td>\n",
       "      <td>109</td>\n",
       "      <td>1</td>\n",
       "    </tr>\n",
       "    <tr>\n",
       "      <th>2</th>\n",
       "      <td>1061</td>\n",
       "      <td>1.00000</td>\n",
       "      <td>2</td>\n",
       "      <td>0</td>\n",
       "      <td>1</td>\n",
       "    </tr>\n",
       "    <tr>\n",
       "      <th>3</th>\n",
       "      <td>1062</td>\n",
       "      <td>1.00000</td>\n",
       "      <td>2022</td>\n",
       "      <td>7</td>\n",
       "      <td>1</td>\n",
       "    </tr>\n",
       "    <tr>\n",
       "      <th>4</th>\n",
       "      <td>1063</td>\n",
       "      <td>3,069.00000</td>\n",
       "      <td>2559</td>\n",
       "      <td>409</td>\n",
       "      <td>0</td>\n",
       "    </tr>\n",
       "  </tbody>\n",
       "</table>\n",
       "</div>"
      ],
      "text/plain": [
       "     id   parent_id  child_id  sibling_rank  displayed_on_dashboard\n",
       "0  1059         NaN         1             1                       1\n",
       "1  1060         NaN       109           109                       1\n",
       "2  1061     1.00000         2             0                       1\n",
       "3  1062     1.00000      2022             7                       1\n",
       "4  1063 3,069.00000      2559           409                       0"
      ]
     },
     "execution_count": 4,
     "metadata": {},
     "output_type": "execute_result"
    }
   ],
   "source": [
    "topic_trees.head()"
   ]
  },
  {
   "cell_type": "code",
   "execution_count": 5,
   "id": "17300354",
   "metadata": {
    "id": "17300354"
   },
   "outputs": [],
   "source": [
    "# Drop topics that should be deleted\n",
    "math_topics = math_topics[~math_topics.name_english.str.contains('delete')]\n",
    "math_topics_ids = math_topics.id.unique()\n",
    "\n",
    "# Filter out edges where neither of the nodes are maths-related\n",
    "math_topic_trees = topic_trees[topic_trees['parent_id'].isin(math_topics_ids) | topic_trees['child_id'].isin(math_topics_ids)]"
   ]
  },
  {
   "cell_type": "code",
   "execution_count": 6,
   "id": "2a6d0728",
   "metadata": {
    "id": "2a6d0728"
   },
   "outputs": [],
   "source": [
    "# Build the graph\n",
    "source = [x for x in math_topic_trees.parent_id.dropna().tolist() if x in math_topics_ids]\n",
    "dest = [x for x in math_topic_trees.child_id.tolist() if x in math_topics_ids]\n",
    "edges = list(zip(source, dest))\n",
    "\n",
    "G = nx.DiGraph()\n",
    "G.add_edges_from(edges)\n",
    "G.remove_edges_from(list(nx.selfloop_edges(G))) # remove self-loops"
   ]
  },
  {
   "cell_type": "code",
   "execution_count": 7,
   "id": "46541768",
   "metadata": {
    "id": "46541768"
   },
   "outputs": [],
   "source": [
    "# Mappings to navigate from topic_id to topic_name and vice-versa\n",
    "id_to_name = math_topics.set_index('id')['name_english'].to_dict()\n",
    "name_to_id = math_topics.set_index('name_english')['id'].to_dict()"
   ]
  },
  {
   "cell_type": "code",
   "execution_count": 8,
   "id": "d8ba13b0",
   "metadata": {
    "id": "d8ba13b0"
   },
   "outputs": [],
   "source": [
    "if SAVE_GRAPH:\n",
    "    # save as an image for inspection\n",
    "    H = G.copy()\n",
    "    H = nx.relabel_nodes(H, id_to_name)\n",
    "    p = nx.drawing.nx_pydot.to_pydot(H)   \n",
    "    p.write_png('img/topics.png')"
   ]
  },
  {
   "cell_type": "markdown",
   "id": "d0803a37",
   "metadata": {
    "id": "d0803a37"
   },
   "source": [
    "The resulting graph can be previewed [here](img/topics.png)."
   ]
  },
  {
   "cell_type": "markdown",
   "id": "feac9fcb",
   "metadata": {
    "id": "feac9fcb"
   },
   "source": [
    "### 1.2 Build dataframes of trials that fit the KT framework"
   ]
  },
  {
   "cell_type": "markdown",
   "id": "1c35016c",
   "metadata": {
    "id": "1c35016c"
   },
   "source": [
    "Here we build dataframes of trials that fit for the different knowledge tracing models and settings.  \n",
    "\n",
    "**(1.2.1)** From the tables provided by Learnavi, we first gather the information relevant for our analysis by merging the `documents` containing the topic of the questions with the `events` corresponding to submissions from users with the `transactions` where we can find the evaluation of the submission on the document.  \n",
    "\n",
    "**(1.2.2)** We also add the difficulty of each question (estimated by Learnavi) for each trials. This feature can be used in the logistic models (AFM and PFA) and DKT.\n",
    "\n",
    "**(1.2.3)** The evaluation provided by Learnavi tables are categorical (\"WRONG\", \"PARTIAL\", \"CORRECT\"), but to fit knowledge tracing model we need mainly Integers or Floats.\n",
    "Hence we build two dataframes:\n",
    "\n",
    "* One dataframe with a binary evaluation {0, 1}, considering partially correct answers as wrong (**binary setting**)\n",
    "* And one dataframe with a \"ternary\" evaluation {0, 0.5, 1}, taking into account partially correct answers. This dataframe could be used with slightly modified models (**partial credit setting**)\n",
    "\n",
    "**(1.2.4)** Finally, We complete our dataframes with the information that AFM and PFA requires, namely the number of previous attempts realised by a user on a same topic (for AFM) and the number of correctly and incorrectly solved exercices by a user on a same topic (for PFA). We do the same processing for the partial credit setting with the corresponding adaptation."
   ]
  },
  {
   "cell_type": "markdown",
   "id": "b8a314d9",
   "metadata": {
    "id": "b8a314d9"
   },
   "source": [
    "#### 1.2.1 Dataframe of trials with topic & evaluation informations\n",
    "\n",
    "For each `document_id`, there are multiple entries in the `documents` table corresponding to different versions of the document. However, each `document_id` corresponds to a unique topic. Thus, we can group by the document ID and keep the first topic."
   ]
  },
  {
   "cell_type": "code",
   "execution_count": 9,
   "id": "f814f699",
   "metadata": {
    "id": "f814f699"
   },
   "outputs": [],
   "source": [
    "# Get all topic_ids for each document_id\n",
    "topics_per_doc = documents.groupby('document_id')['topic_id'] \\\n",
    "                          .apply(set) \\\n",
    "                          .to_frame() \n",
    "\n",
    "# Check that there are no documents with the same ID but different topic\n",
    "multitopic = [x for x in topics_per_doc.topic_id.values if len(x) > 1] # indicator for documents with multiple topics \n",
    "assert len(multitopic) == 0"
   ]
  },
  {
   "cell_type": "code",
   "execution_count": 10,
   "id": "eed2dfb2",
   "metadata": {
    "id": "eed2dfb2"
   },
   "outputs": [],
   "source": [
    "# Get a mapping document_id => topic (the only set element from topics_per_doc)\n",
    "topic_per_doc = topics_per_doc.topic_id.apply(lambda x: list(x)[0])"
   ]
  },
  {
   "cell_type": "markdown",
   "id": "d5e90949",
   "metadata": {
    "id": "d5e90949"
   },
   "source": [
    "We filter the events that correspond to question answering (i.e. trials)."
   ]
  },
  {
   "cell_type": "code",
   "execution_count": 11,
   "id": "892563ca",
   "metadata": {
    "id": "892563ca"
   },
   "outputs": [],
   "source": [
    "answer_events = events[(events.action == 'SUBMIT_ANSWER')]"
   ]
  },
  {
   "cell_type": "markdown",
   "id": "7ebabbc3",
   "metadata": {
    "id": "7ebabbc3"
   },
   "source": [
    "Now we can form the `trials_df` dataframe with the information from the events (for the trials), the transaction (for the evaluation) and the documents (for the topic)."
   ]
  },
  {
   "cell_type": "code",
   "execution_count": 12,
   "id": "d1bf6ea4",
   "metadata": {
    "id": "d1bf6ea4"
   },
   "outputs": [],
   "source": [
    "trials_df = answer_events.merge(transactions, on = 'transaction_token', suffixes=['', '_2']) \\\n",
    "                         .merge(topic_per_doc, on = 'document_id') \\\n",
    "                         .drop(columns=['user_id_2','action'])"
   ]
  },
  {
   "cell_type": "markdown",
   "id": "f5f707f7",
   "metadata": {
    "id": "f5f707f7"
   },
   "source": [
    "#### 1.2.2 Add the estimated difficulty of each document"
   ]
  },
  {
   "cell_type": "code",
   "execution_count": 13,
   "id": "d751b1ac",
   "metadata": {
    "id": "d751b1ac"
   },
   "outputs": [],
   "source": [
    "# Get the content for each document_id\n",
    "difficulty_per_doc = documents.groupby('document_id')['content'] \\\n",
    "                              .apply(set) \\\n",
    "                              .to_frame()\n",
    "\n",
    "# Get a mapping document_id => content (the only set element from difficulty_per_doc)\n",
    "difficulty_per_doc = difficulty_per_doc.content.apply(lambda x: list(x)[0]).to_frame()\n",
    "\n",
    "# Retrieve the difficulty from documents metadata (content)\n",
    "difficulty_per_doc['difficulty'] = difficulty_per_doc['content'].apply(lambda doc: get_difficulty(doc))"
   ]
  },
  {
   "cell_type": "code",
   "execution_count": 14,
   "id": "b4555720",
   "metadata": {
    "id": "b4555720"
   },
   "outputs": [],
   "source": [
    "# Add the difficulty of the document used for each trial\n",
    "trials_df = trials_df.merge(difficulty_per_doc[['difficulty']], on='document_id')"
   ]
  },
  {
   "cell_type": "markdown",
   "id": "0ef8961a",
   "metadata": {
    "id": "0ef8961a"
   },
   "source": [
    "#### 1.2.3 Map the evaluation categories to integer"
   ]
  },
  {
   "cell_type": "markdown",
   "id": "f215f601",
   "metadata": {
    "id": "f215f601"
   },
   "source": [
    "Finally, we map the evaluation from categories to integers to fit KT framework. We distinguish two cases, `trials_bin_df` which only considers CORRECT and WRONG answers (treating PARTIAL answers as WRONG) and `trials_partial_df` which also takes into account PARTIAL answers."
   ]
  },
  {
   "cell_type": "code",
   "execution_count": 15,
   "id": "b95ece1d",
   "metadata": {
    "id": "b95ece1d"
   },
   "outputs": [],
   "source": [
    "def map_grading(df, grading = {'CORRECT': 1, 'WRONG': 0, 'PARTIAL': 0}):\n",
    "    \"\"\"\n",
    "    Params:\n",
    "        df (pd.DataFrame): \n",
    "            Dataframe with a categorical evaluation column.\n",
    "        grading (dict): \n",
    "            Mapping for the evaluations (to integers).\n",
    "    Returns:\n",
    "        pd.DataFrame: \n",
    "            Dataframe with evaluation pre-processed for KT.\n",
    "    \"\"\"\n",
    "    # Remove entries where evaluation is N/A & map them according to the grading\n",
    "    df = df.dropna(subset = ['evaluation'])\n",
    "    df['evaluation'] = df['evaluation'].map(grading)\n",
    "    \n",
    "    return df"
   ]
  },
  {
   "cell_type": "code",
   "execution_count": 16,
   "id": "8a579ca6",
   "metadata": {
    "id": "8a579ca6"
   },
   "outputs": [],
   "source": [
    "USEFUL_FEATURES = ['user_id', 'commit_time', 'topic_id', 'difficulty', 'evaluation']\n",
    "\n",
    "trials_bin_df = map_grading(trials_df)[USEFUL_FEATURES]\n",
    "trials_partial_df = map_grading(trials_df, {'CORRECT': 1, 'WRONG': 0, 'PARTIAL': 0.5})[USEFUL_FEATURES]"
   ]
  },
  {
   "cell_type": "markdown",
   "id": "f5230a10",
   "metadata": {
    "id": "f5230a10"
   },
   "source": [
    "#### 1.2.4 Perform preprocessing specific to AFM & PFA"
   ]
  },
  {
   "cell_type": "markdown",
   "id": "4f9522c9",
   "metadata": {
    "id": "4f9522c9"
   },
   "source": [
    "AFM and PFA are models that compute the probability of a user to solve a task correctly based on their overall previous attempts (for AFM) and on their correct and wrong previous attempts (for PFA).\n",
    "We hence compute those three variables for trials_df."
   ]
  },
  {
   "cell_type": "code",
   "execution_count": 17,
   "id": "06a29690",
   "metadata": {
    "id": "06a29690"
   },
   "outputs": [],
   "source": [
    "# Compute the overall number of previous attempts\n",
    "trials_bin_df['one'] = 1\n",
    "trials_bin_df['prev_attempts'] = (\n",
    "    trials_bin_df.sort_values('commit_time')\n",
    "                 .groupby(by=['user_id','topic_id'])['one']\n",
    "                 .cumsum() - 1\n",
    ")\n",
    "\n",
    "# Compute the number of correct and wrong previous attempts\n",
    "trials_bin_df['correct_attempts'] = (\n",
    "    trials_bin_df.sort_values('commit_time')\n",
    "                 .groupby(by=['user_id','topic_id'])['evaluation']\n",
    "                 .cumsum()\n",
    ")\n",
    "trials_bin_df['prev_correct_attempts'] = (\n",
    "    trials_bin_df.sort_values('commit_time')\n",
    "                 .groupby(by=['user_id','topic_id'])['correct_attempts']\n",
    "                 .shift(periods=1, fill_value=0)\n",
    ")\n",
    "trials_bin_df['prev_wrong_attempts'] = trials_bin_df['prev_attempts'] - trials_bin_df['prev_correct_attempts']\n",
    "\n",
    "# Remove temporary variables\n",
    "trials_bin_df.drop(['one', 'correct_attempts'], axis=1, inplace=True)"
   ]
  },
  {
   "cell_type": "markdown",
   "id": "6c8bf693",
   "metadata": {
    "id": "6c8bf693"
   },
   "source": [
    "Taking now into account partially correct answers, we compute the correct, partially correct and wrong previous attempts for trials_df. We will use these features to extend PFA in order to compute the probability of a user to solve a task correctly."
   ]
  },
  {
   "cell_type": "code",
   "execution_count": 18,
   "id": "ab46e99d",
   "metadata": {
    "id": "ab46e99d"
   },
   "outputs": [],
   "source": [
    "# Compute the overall number of previous attempts\n",
    "trials_partial_df['one'] = 1\n",
    "trials_partial_df['prev_attempts'] = (\n",
    "    trials_partial_df.sort_values('commit_time')\n",
    "                     .groupby(by=['user_id','topic_id'])['one']\n",
    "                     .cumsum() - 1\n",
    ")\n",
    "\n",
    "trials_partial_df['is_correct'] = trials_partial_df.apply(lambda x: 1 if x.loc['evaluation'] == 1 else 0, axis=1)\n",
    "trials_partial_df['is_wrong'] = trials_partial_df.apply(lambda x: 1 if x.loc['evaluation'] == 0 else 0, axis=1)\n",
    "\n",
    "# Compute the number of correct previous attempts\n",
    "trials_partial_df['correct_attempts'] = (\n",
    "    trials_partial_df.sort_values('commit_time')\n",
    "                     .groupby(by=['user_id','topic_id'])['is_correct']\n",
    "                     .cumsum()\n",
    ")\n",
    "trials_partial_df['prev_correct_attempts'] = (\n",
    "    trials_partial_df.sort_values('commit_time')\n",
    "                     .groupby(by=['user_id','topic_id'])['correct_attempts']\n",
    "                     .shift(periods=1, fill_value=0)\n",
    ")\n",
    "\n",
    "# Compute the number of wrong previous attempts\n",
    "trials_partial_df['wrong_attempts'] = (\n",
    "    trials_partial_df.sort_values('commit_time')\n",
    "                     .groupby(by=['user_id','topic_id'])['is_wrong']\n",
    "                     .cumsum()\n",
    ")\n",
    "trials_partial_df['prev_wrong_attempts'] = (\n",
    "    trials_partial_df.sort_values('commit_time')\n",
    "                     .groupby(by=['user_id','topic_id'])['wrong_attempts']\n",
    "                     .shift(periods=1, fill_value=0)\n",
    ")\n",
    "\n",
    "# Compute the number of partially correct previous attempts\n",
    "trials_partial_df['prev_partial_attempts'] = (\n",
    "    trials_partial_df['prev_attempts'] - \n",
    "    trials_partial_df['prev_correct_attempts'] -\n",
    "    trials_partial_df['prev_wrong_attempts']\n",
    ")\n",
    "\n",
    "# Remove temporary variables\n",
    "trials_partial_df.drop(['one', 'is_correct', 'is_wrong', 'correct_attempts', 'wrong_attempts'], \n",
    "                       axis=1, inplace=True)"
   ]
  },
  {
   "cell_type": "markdown",
   "id": "65d264da",
   "metadata": {
    "id": "65d264da"
   },
   "source": [
    "#### 1.2.5 Final dataframes of trials for KT (with & without considering partial evaluation)"
   ]
  },
  {
   "cell_type": "code",
   "execution_count": 19,
   "id": "a41b632d",
   "metadata": {
    "colab": {
     "base_uri": "https://localhost:8080/",
     "height": 270
    },
    "id": "a41b632d",
    "outputId": "592dff52-8da2-474f-f09a-628554b8ccc2"
   },
   "outputs": [
    {
     "data": {
      "text/html": [
       "<div>\n",
       "<style scoped>\n",
       "    .dataframe tbody tr th:only-of-type {\n",
       "        vertical-align: middle;\n",
       "    }\n",
       "\n",
       "    .dataframe tbody tr th {\n",
       "        vertical-align: top;\n",
       "    }\n",
       "\n",
       "    .dataframe thead th {\n",
       "        text-align: right;\n",
       "    }\n",
       "</style>\n",
       "<table border=\"1\" class=\"dataframe\">\n",
       "  <thead>\n",
       "    <tr style=\"text-align: right;\">\n",
       "      <th></th>\n",
       "      <th>user_id</th>\n",
       "      <th>commit_time</th>\n",
       "      <th>topic_id</th>\n",
       "      <th>difficulty</th>\n",
       "      <th>evaluation</th>\n",
       "      <th>prev_attempts</th>\n",
       "      <th>prev_correct_attempts</th>\n",
       "      <th>prev_wrong_attempts</th>\n",
       "    </tr>\n",
       "  </thead>\n",
       "  <tbody>\n",
       "    <tr>\n",
       "      <th>0</th>\n",
       "      <td>390142</td>\n",
       "      <td>1,621,592,273,346.00000</td>\n",
       "      <td>1048</td>\n",
       "      <td>2.00000</td>\n",
       "      <td>1</td>\n",
       "      <td>0</td>\n",
       "      <td>0</td>\n",
       "      <td>0</td>\n",
       "    </tr>\n",
       "    <tr>\n",
       "      <th>1</th>\n",
       "      <td>389408</td>\n",
       "      <td>1,643,358,944,366.00000</td>\n",
       "      <td>1048</td>\n",
       "      <td>2.00000</td>\n",
       "      <td>0</td>\n",
       "      <td>5</td>\n",
       "      <td>0</td>\n",
       "      <td>5</td>\n",
       "    </tr>\n",
       "    <tr>\n",
       "      <th>2</th>\n",
       "      <td>389405</td>\n",
       "      <td>1,644,309,202,306.00000</td>\n",
       "      <td>1048</td>\n",
       "      <td>2.00000</td>\n",
       "      <td>1</td>\n",
       "      <td>5</td>\n",
       "      <td>1</td>\n",
       "      <td>4</td>\n",
       "    </tr>\n",
       "    <tr>\n",
       "      <th>3</th>\n",
       "      <td>389418</td>\n",
       "      <td>1,644,309,361,907.00000</td>\n",
       "      <td>1048</td>\n",
       "      <td>2.00000</td>\n",
       "      <td>0</td>\n",
       "      <td>5</td>\n",
       "      <td>1</td>\n",
       "      <td>4</td>\n",
       "    </tr>\n",
       "    <tr>\n",
       "      <th>4</th>\n",
       "      <td>389414</td>\n",
       "      <td>1,644,309,397,675.00000</td>\n",
       "      <td>1048</td>\n",
       "      <td>2.00000</td>\n",
       "      <td>0</td>\n",
       "      <td>5</td>\n",
       "      <td>1</td>\n",
       "      <td>4</td>\n",
       "    </tr>\n",
       "  </tbody>\n",
       "</table>\n",
       "</div>"
      ],
      "text/plain": [
       "   user_id             commit_time  topic_id  difficulty  evaluation  \\\n",
       "0   390142 1,621,592,273,346.00000      1048     2.00000           1   \n",
       "1   389408 1,643,358,944,366.00000      1048     2.00000           0   \n",
       "2   389405 1,644,309,202,306.00000      1048     2.00000           1   \n",
       "3   389418 1,644,309,361,907.00000      1048     2.00000           0   \n",
       "4   389414 1,644,309,397,675.00000      1048     2.00000           0   \n",
       "\n",
       "   prev_attempts  prev_correct_attempts  prev_wrong_attempts  \n",
       "0              0                      0                    0  \n",
       "1              5                      0                    5  \n",
       "2              5                      1                    4  \n",
       "3              5                      1                    4  \n",
       "4              5                      1                    4  "
      ]
     },
     "execution_count": 19,
     "metadata": {},
     "output_type": "execute_result"
    }
   ],
   "source": [
    "# Binary evaluation (either 0 or 1)\n",
    "trials_bin_df.head()"
   ]
  },
  {
   "cell_type": "code",
   "execution_count": 20,
   "id": "342af3e1",
   "metadata": {
    "colab": {
     "base_uri": "https://localhost:8080/",
     "height": 270
    },
    "id": "342af3e1",
    "outputId": "03f8ac4f-742b-4f9c-a37b-7d102aced4e6"
   },
   "outputs": [
    {
     "data": {
      "text/html": [
       "<div>\n",
       "<style scoped>\n",
       "    .dataframe tbody tr th:only-of-type {\n",
       "        vertical-align: middle;\n",
       "    }\n",
       "\n",
       "    .dataframe tbody tr th {\n",
       "        vertical-align: top;\n",
       "    }\n",
       "\n",
       "    .dataframe thead th {\n",
       "        text-align: right;\n",
       "    }\n",
       "</style>\n",
       "<table border=\"1\" class=\"dataframe\">\n",
       "  <thead>\n",
       "    <tr style=\"text-align: right;\">\n",
       "      <th></th>\n",
       "      <th>user_id</th>\n",
       "      <th>commit_time</th>\n",
       "      <th>topic_id</th>\n",
       "      <th>difficulty</th>\n",
       "      <th>evaluation</th>\n",
       "      <th>prev_attempts</th>\n",
       "      <th>prev_correct_attempts</th>\n",
       "      <th>prev_wrong_attempts</th>\n",
       "      <th>prev_partial_attempts</th>\n",
       "    </tr>\n",
       "  </thead>\n",
       "  <tbody>\n",
       "    <tr>\n",
       "      <th>0</th>\n",
       "      <td>390142</td>\n",
       "      <td>1,621,592,273,346.00000</td>\n",
       "      <td>1048</td>\n",
       "      <td>2.00000</td>\n",
       "      <td>1.00000</td>\n",
       "      <td>0</td>\n",
       "      <td>0</td>\n",
       "      <td>0</td>\n",
       "      <td>0</td>\n",
       "    </tr>\n",
       "    <tr>\n",
       "      <th>1</th>\n",
       "      <td>389408</td>\n",
       "      <td>1,643,358,944,366.00000</td>\n",
       "      <td>1048</td>\n",
       "      <td>2.00000</td>\n",
       "      <td>0.00000</td>\n",
       "      <td>5</td>\n",
       "      <td>0</td>\n",
       "      <td>3</td>\n",
       "      <td>2</td>\n",
       "    </tr>\n",
       "    <tr>\n",
       "      <th>2</th>\n",
       "      <td>389405</td>\n",
       "      <td>1,644,309,202,306.00000</td>\n",
       "      <td>1048</td>\n",
       "      <td>2.00000</td>\n",
       "      <td>1.00000</td>\n",
       "      <td>5</td>\n",
       "      <td>1</td>\n",
       "      <td>2</td>\n",
       "      <td>2</td>\n",
       "    </tr>\n",
       "    <tr>\n",
       "      <th>3</th>\n",
       "      <td>389418</td>\n",
       "      <td>1,644,309,361,907.00000</td>\n",
       "      <td>1048</td>\n",
       "      <td>2.00000</td>\n",
       "      <td>0.00000</td>\n",
       "      <td>5</td>\n",
       "      <td>1</td>\n",
       "      <td>3</td>\n",
       "      <td>1</td>\n",
       "    </tr>\n",
       "    <tr>\n",
       "      <th>4</th>\n",
       "      <td>389414</td>\n",
       "      <td>1,644,309,397,675.00000</td>\n",
       "      <td>1048</td>\n",
       "      <td>2.00000</td>\n",
       "      <td>0.00000</td>\n",
       "      <td>5</td>\n",
       "      <td>1</td>\n",
       "      <td>3</td>\n",
       "      <td>1</td>\n",
       "    </tr>\n",
       "  </tbody>\n",
       "</table>\n",
       "</div>"
      ],
      "text/plain": [
       "   user_id             commit_time  topic_id  difficulty  evaluation  \\\n",
       "0   390142 1,621,592,273,346.00000      1048     2.00000     1.00000   \n",
       "1   389408 1,643,358,944,366.00000      1048     2.00000     0.00000   \n",
       "2   389405 1,644,309,202,306.00000      1048     2.00000     1.00000   \n",
       "3   389418 1,644,309,361,907.00000      1048     2.00000     0.00000   \n",
       "4   389414 1,644,309,397,675.00000      1048     2.00000     0.00000   \n",
       "\n",
       "   prev_attempts  prev_correct_attempts  prev_wrong_attempts  \\\n",
       "0              0                      0                    0   \n",
       "1              5                      0                    3   \n",
       "2              5                      1                    2   \n",
       "3              5                      1                    3   \n",
       "4              5                      1                    3   \n",
       "\n",
       "   prev_partial_attempts  \n",
       "0                      0  \n",
       "1                      2  \n",
       "2                      2  \n",
       "3                      1  \n",
       "4                      1  "
      ]
     },
     "execution_count": 20,
     "metadata": {},
     "output_type": "execute_result"
    }
   ],
   "source": [
    "# Take into account partially correct answers\n",
    "trials_partial_df.head()"
   ]
  },
  {
   "cell_type": "markdown",
   "id": "215e63d2",
   "metadata": {
    "id": "215e63d2"
   },
   "source": [
    "### 1.3 Divide the dataframe of trials per topic"
   ]
  },
  {
   "cell_type": "markdown",
   "id": "53ae5e00",
   "metadata": {
    "id": "53ae5e00"
   },
   "source": [
    "For some of our KT model like BKT, we need to fit one model per topic. We hence separate our dataframe per main topic and choose to delete from our analysis the trials that are not belonging to one of these main topic.   \n",
    "Note that among the main topics from Learnavi math section, `Similarity geometry` doesn't appear in our graph and `Trigonometry` is already part of `Functions`."
   ]
  },
  {
   "cell_type": "code",
   "execution_count": 21,
   "id": "cf1ec4e4",
   "metadata": {
    "id": "cf1ec4e4"
   },
   "outputs": [],
   "source": [
    "def get_topic_df(df, G, topic_id):\n",
    "    \"\"\"\n",
    "    Params:\n",
    "        df (pd.DataFrame): \n",
    "            Dataframe to filter; must contain a column called `topic_id`.\n",
    "        G (nx.DiGraph): \n",
    "            Hierarchical graph to use for grouping topics.\n",
    "        topic_id (int): \n",
    "            Identifier of the parent node. \n",
    "            All its children will be considered in the output.\n",
    "    Returns:\n",
    "        pd.DataFrame: \n",
    "            Data corresponding to `topic_id`.\n",
    "    \"\"\"\n",
    "    # Keep the trials whose topic is a descendant of topic_id\n",
    "    children = nx.descendants(G, topic_id)\n",
    "    #children.add(topic_id)\n",
    "    df = df[(df.topic_id.isin(children)) | (df.topic_id == topic_id)] # filtering\n",
    "    df['parent_topic_id'] = topic_id\n",
    "    \n",
    "    return df"
   ]
  },
  {
   "cell_type": "code",
   "execution_count": 22,
   "id": "4f3b4a1d",
   "metadata": {
    "id": "4f3b4a1d"
   },
   "outputs": [],
   "source": [
    "# Main topics in Learnavi math section\n",
    "MAIN_TOPICS = ['Functions', 'Numbers and number quantities', 'Equations', 'Elementary geometry', 'Termere']\n",
    "MAIN_TOPICS_ID = [name_to_id[topic] for topic in MAIN_TOPICS]"
   ]
  },
  {
   "cell_type": "code",
   "execution_count": 23,
   "id": "47dd0fa7",
   "metadata": {
    "id": "47dd0fa7"
   },
   "outputs": [],
   "source": [
    "def split_df_per_topic(df, G, topics):\n",
    "    # Build a dict of dataframes divided per topic\n",
    "    df_per_topic_dict = {}\n",
    "    for topic in topics:\n",
    "        df_per_topic_dict[topic] = get_topic_df(df, G, name_to_id[topic]) \n",
    "\n",
    "    # Overall dataframe with parent topic id\n",
    "    df_parent = pd.concat(list(df_per_topic_dict.values()))\n",
    "    \n",
    "    return df_parent, df_per_topic_dict"
   ]
  },
  {
   "cell_type": "code",
   "execution_count": 24,
   "id": "6f6e1bac",
   "metadata": {
    "id": "6f6e1bac"
   },
   "outputs": [],
   "source": [
    "trials_bin_all_df, trials_bin_per_topic_dict = split_df_per_topic(trials_bin_df, G, MAIN_TOPICS)\n",
    "trials_partial_all_df, trials_partial_per_topic_dict = split_df_per_topic(trials_partial_df, G, MAIN_TOPICS)"
   ]
  },
  {
   "cell_type": "code",
   "execution_count": 25,
   "id": "84cfafb7",
   "metadata": {
    "colab": {
     "base_uri": "https://localhost:8080/",
     "height": 270
    },
    "id": "84cfafb7",
    "outputId": "5fcbecb5-5e43-4a1a-992e-f412594dda31"
   },
   "outputs": [
    {
     "data": {
      "text/html": [
       "<div>\n",
       "<style scoped>\n",
       "    .dataframe tbody tr th:only-of-type {\n",
       "        vertical-align: middle;\n",
       "    }\n",
       "\n",
       "    .dataframe tbody tr th {\n",
       "        vertical-align: top;\n",
       "    }\n",
       "\n",
       "    .dataframe thead th {\n",
       "        text-align: right;\n",
       "    }\n",
       "</style>\n",
       "<table border=\"1\" class=\"dataframe\">\n",
       "  <thead>\n",
       "    <tr style=\"text-align: right;\">\n",
       "      <th></th>\n",
       "      <th>user_id</th>\n",
       "      <th>commit_time</th>\n",
       "      <th>topic_id</th>\n",
       "      <th>difficulty</th>\n",
       "      <th>evaluation</th>\n",
       "      <th>prev_attempts</th>\n",
       "      <th>prev_correct_attempts</th>\n",
       "      <th>prev_wrong_attempts</th>\n",
       "      <th>parent_topic_id</th>\n",
       "    </tr>\n",
       "  </thead>\n",
       "  <tbody>\n",
       "    <tr>\n",
       "      <th>155</th>\n",
       "      <td>388032</td>\n",
       "      <td>1,621,592,751,690.00000</td>\n",
       "      <td>1005</td>\n",
       "      <td>2.00000</td>\n",
       "      <td>0</td>\n",
       "      <td>0</td>\n",
       "      <td>0</td>\n",
       "      <td>0</td>\n",
       "      <td>1006</td>\n",
       "    </tr>\n",
       "    <tr>\n",
       "      <th>156</th>\n",
       "      <td>395171</td>\n",
       "      <td>1,635,265,754,933.00000</td>\n",
       "      <td>1005</td>\n",
       "      <td>2.00000</td>\n",
       "      <td>0</td>\n",
       "      <td>12</td>\n",
       "      <td>3</td>\n",
       "      <td>9</td>\n",
       "      <td>1006</td>\n",
       "    </tr>\n",
       "    <tr>\n",
       "      <th>157</th>\n",
       "      <td>396118</td>\n",
       "      <td>1,637,233,977,310.00000</td>\n",
       "      <td>1005</td>\n",
       "      <td>2.00000</td>\n",
       "      <td>0</td>\n",
       "      <td>1</td>\n",
       "      <td>0</td>\n",
       "      <td>1</td>\n",
       "      <td>1006</td>\n",
       "    </tr>\n",
       "    <tr>\n",
       "      <th>158</th>\n",
       "      <td>396451</td>\n",
       "      <td>1,637,234,453,905.00000</td>\n",
       "      <td>1005</td>\n",
       "      <td>2.00000</td>\n",
       "      <td>0</td>\n",
       "      <td>4</td>\n",
       "      <td>1</td>\n",
       "      <td>3</td>\n",
       "      <td>1006</td>\n",
       "    </tr>\n",
       "    <tr>\n",
       "      <th>159</th>\n",
       "      <td>396127</td>\n",
       "      <td>1,637,234,484,118.00000</td>\n",
       "      <td>1005</td>\n",
       "      <td>2.00000</td>\n",
       "      <td>0</td>\n",
       "      <td>3</td>\n",
       "      <td>1</td>\n",
       "      <td>2</td>\n",
       "      <td>1006</td>\n",
       "    </tr>\n",
       "  </tbody>\n",
       "</table>\n",
       "</div>"
      ],
      "text/plain": [
       "     user_id             commit_time  topic_id  difficulty  evaluation  \\\n",
       "155   388032 1,621,592,751,690.00000      1005     2.00000           0   \n",
       "156   395171 1,635,265,754,933.00000      1005     2.00000           0   \n",
       "157   396118 1,637,233,977,310.00000      1005     2.00000           0   \n",
       "158   396451 1,637,234,453,905.00000      1005     2.00000           0   \n",
       "159   396127 1,637,234,484,118.00000      1005     2.00000           0   \n",
       "\n",
       "     prev_attempts  prev_correct_attempts  prev_wrong_attempts  \\\n",
       "155              0                      0                    0   \n",
       "156             12                      3                    9   \n",
       "157              1                      0                    1   \n",
       "158              4                      1                    3   \n",
       "159              3                      1                    2   \n",
       "\n",
       "     parent_topic_id  \n",
       "155             1006  \n",
       "156             1006  \n",
       "157             1006  \n",
       "158             1006  \n",
       "159             1006  "
      ]
     },
     "execution_count": 25,
     "metadata": {},
     "output_type": "execute_result"
    }
   ],
   "source": [
    "trials_bin_per_topic_dict['Functions'].head()"
   ]
  },
  {
   "cell_type": "markdown",
   "id": "7b56691d",
   "metadata": {
    "id": "7b56691d"
   },
   "source": [
    "### 1.4 Split the data for the training & evaluation process"
   ]
  },
  {
   "cell_type": "markdown",
   "id": "27e36f20",
   "metadata": {
    "id": "27e36f20"
   },
   "source": [
    "#### 1.4.1 Split the dataframe of trials with binary evaluation"
   ]
  },
  {
   "cell_type": "markdown",
   "id": "031045b6",
   "metadata": {
    "id": "031045b6"
   },
   "source": [
    "For AFM and PFA, we will use `X_train_val` as the train set and `X_test` as the test set (as it does not require any hyperparameters tuning). For DKT, we will use `X_train` as the train set, `X_val` as the validation set and `X_test` as the test set.  \n",
    "Note that for BKT, the splitting per topic is already done in `train_bkt` for each topic."
   ]
  },
  {
   "cell_type": "code",
   "execution_count": 26,
   "id": "b6dbecb8",
   "metadata": {
    "id": "b6dbecb8"
   },
   "outputs": [],
   "source": [
    "# Split the data into training and test\n",
    "train_val_index, test_index = next(create_iterator(trials_bin_all_df))\n",
    "X_train_val, X_test = trials_bin_all_df.iloc[train_val_index], trials_bin_all_df.iloc[test_index]\n",
    "\n",
    "# Split the training data into training and validation\n",
    "train_index, val_index = next(create_iterator(X_train_val))\n",
    "X_train, X_val = X_train_val.iloc[train_index], X_train_val.iloc[val_index]"
   ]
  },
  {
   "cell_type": "markdown",
   "id": "d95adfcc",
   "metadata": {
    "id": "d95adfcc"
   },
   "source": [
    "#### 1.4.2 Split the dataframe of trials with partial evaluation"
   ]
  },
  {
   "cell_type": "markdown",
   "id": "31ff71f1",
   "metadata": {
    "id": "31ff71f1"
   },
   "source": [
    "Same splitting process as in 1.4.1, except that we apply it on the dataframe with partial evaluation."
   ]
  },
  {
   "cell_type": "code",
   "execution_count": 27,
   "id": "96823e8b",
   "metadata": {
    "id": "96823e8b"
   },
   "outputs": [],
   "source": [
    "# Split the data into training and test\n",
    "partial_train_val_index, partial_test_index = next(create_iterator(trials_partial_all_df))\n",
    "X_partial_train_val, X_partial_test = trials_partial_all_df.iloc[partial_train_val_index], trials_partial_all_df.iloc[partial_test_index]\n",
    "\n",
    "# Split the training data into training and validation\n",
    "partial_train_index, partial_val_index = next(create_iterator(X_partial_train_val))\n",
    "X_partial_train, X_partial_val = X_partial_train_val.iloc[partial_train_index], X_partial_train_val.iloc[partial_val_index]"
   ]
  },
  {
   "cell_type": "markdown",
   "id": "14d260fd",
   "metadata": {
    "id": "14d260fd"
   },
   "source": [
    "### 1.5 Visualization"
   ]
  },
  {
   "cell_type": "markdown",
   "id": "2a0b9c59",
   "metadata": {
    "id": "2a0b9c59"
   },
   "source": [
    "Let's visualise how our data is distributed across the topics and the evaluations."
   ]
  },
  {
   "cell_type": "code",
   "execution_count": 28,
   "id": "e8deafeb",
   "metadata": {
    "colab": {
     "base_uri": "https://localhost:8080/",
     "height": 311
    },
    "id": "e8deafeb",
    "outputId": "19cfacbc-8f2d-4320-f867-a93c9c59a5c4"
   },
   "outputs": [
    {
     "data": {
      "image/png": "[encoded data removed]",
      "text/plain": [
       "<Figure size 504x360 with 1 Axes>"
      ]
     },
     "metadata": {
      "needs_background": "light"
     },
     "output_type": "display_data"
    }
   ],
   "source": [
    "# Barplot of the trials per topic per evaluation\n",
    "fig, ax = plt.subplots(figsize=(7,5))\n",
    "\n",
    "(trials_partial_all_df.groupby(['parent_topic_id', 'evaluation']).size().unstack()\n",
    "                      .plot(kind='bar', stacked=True, fontsize=12, color=['firebrick', 'orange', 'forestgreen'], ax=ax))\n",
    "\n",
    "#labels = [id_to_name[int(tick.get_text())] for tick in ax.get_xticklabels()]\n",
    "labels = [\"Numbers and\\nnumber quantities\", \"Termere\", \"Equations\", \"Functions\", \"Elementary\\ngeometry\"]\n",
    "#ax.set_title('Evaluation per topic\\n')\n",
    "ax.set_xlabel('Topic', fontsize=20)\n",
    "ax.set_ylabel('Count', fontsize=20)\n",
    "ax.set_xticklabels(labels, rotation=0)\n",
    "ax.legend(['Wrong', 'Partially\\ncorrect', 'Correct'], fontsize=12)\n",
    "\n",
    "plt.tight_layout()\n",
    "plt.savefig('img/evaluation_per_topic')\n",
    "plt.show()"
   ]
  },
  {
   "cell_type": "markdown",
   "id": "7478b28f",
   "metadata": {
    "id": "7478b28f"
   },
   "source": [
    "**Discussion**  \n",
    "This visualisation reveals several interesting characteristics of our data:\n",
    "\n",
    "* There is a large imbalance in the distribution of data per topic\n",
    "* Most of the trials are correct, but partially correct answers is also well represented in nearly every topic. It means that the these trials may have a non-negligeable impact depending on how we treat them."
   ]
  },
  {
   "cell_type": "markdown",
   "id": "01da903b",
   "metadata": {},
   "source": [
    "Now let's see how the data are distributed considering the estimated difficulty."
   ]
  },
  {
   "cell_type": "code",
   "execution_count": 29,
   "id": "ea283014",
   "metadata": {
    "colab": {
     "base_uri": "https://localhost:8080/",
     "height": 311
    },
    "id": "ea283014",
    "outputId": "1ea3ef50-dd84-479b-feca-1f869131f960"
   },
   "outputs": [
    {
     "data": {
      "image/png": "[encoded data removed]",
      "text/plain": [
       "<Figure size 432x288 with 1 Axes>"
      ]
     },
     "metadata": {
      "needs_background": "light"
     },
     "output_type": "display_data"
    }
   ],
   "source": [
    "# Barplot of the trials per topic per difficulty\n",
    "trials_partial_all_df.groupby(['parent_topic_id', 'difficulty']).size().unstack().plot(kind='bar', stacked=True)\n",
    "plt.title('Difficulty per topic')\n",
    "plt.xlabel('Topic')\n",
    "plt.ylabel('Count')\n",
    "plt.xticks(np.arange(5), labels=MAIN_TOPICS)\n",
    "plt.show()"
   ]
  },
  {
   "cell_type": "code",
   "execution_count": 30,
   "id": "8bbbc33d",
   "metadata": {
    "colab": {
     "base_uri": "https://localhost:8080/",
     "height": 301
    },
    "id": "8bbbc33d",
    "outputId": "d8caba7c-ed68-4fc8-cc78-b276b76b95e8"
   },
   "outputs": [
    {
     "data": {
      "image/png": "[encoded data removed]",
      "text/plain": [
       "<Figure size 432x288 with 1 Axes>"
      ]
     },
     "metadata": {
      "needs_background": "light"
     },
     "output_type": "display_data"
    }
   ],
   "source": [
    "# Barplot of the trials per topic per evaluation\n",
    "trials_partial_all_df.groupby(['difficulty', 'evaluation']).size().unstack().plot(kind='bar', stacked=True)\n",
    "plt.title('Evaluation per difficulty')\n",
    "plt.xlabel('Difficulty')\n",
    "plt.ylabel('Count')\n",
    "#plt.legend(['Correct', 'Partially\\ncorrect', 'Wrong'])\n",
    "plt.show()"
   ]
  },
  {
   "cell_type": "markdown",
   "id": "2c76ddb8",
   "metadata": {},
   "source": [
    "**Discussion**  \n",
    "These two visualisations reveal additional interesting characteristics of our data:\n",
    "\n",
    "* There is approximately the same distribution of difficulty per parent topic\n",
    "* The evaluation per difficulty does not give us any useful information, except that the distribution is not as expected. In general, we expect that the harder the question, the lower the success rate, but it is surprisingly not the case here."
   ]
  },
  {
   "cell_type": "markdown",
   "id": "85633adb-d317-4ee3-bf06-e9f82f589c41",
   "metadata": {
    "id": "85633adb-d317-4ee3-bf06-e9f82f589c41"
   },
   "source": [
    "## 2 - Model Building\n"
   ]
  },
  {
   "cell_type": "markdown",
   "id": "7344c8c8",
   "metadata": {
    "id": "7344c8c8"
   },
   "source": [
    "We consider several knowledge tracing models in an attempt to mimic Learnavi users. Each of these models have some assumptions, some pros and cons.  \n",
    "Note that by nature, some of these models are not really comparable (e.g. BKT where one model corresponds to one skill and DKT where one model is built taking all the skills into account). However, we are interested in the model(s) that represents the best the users behavior."
   ]
  },
  {
   "cell_type": "markdown",
   "id": "20e6b943",
   "metadata": {
    "id": "20e6b943"
   },
   "source": [
    "### 2.1 Bayesian Knowledge Tracing (BKT)"
   ]
  },
  {
   "cell_type": "markdown",
   "id": "0df5bb34",
   "metadata": {
    "id": "0df5bb34"
   },
   "source": [
    "BKT rely on the assumption that knowledge can be divided into different skills and that each task corresponds to a single skill. Also, the skills are supposed to be completely disconnected (mastering one skill should not impact the level of understanding on another skill).  \n",
    "To satisfy this condition, we fit one model per parent topic, which ensures that the overlap between skills is minimized. Note that a student cannot forget a skill once it is learned, and the model only supports binary outcomes."
   ]
  },
  {
   "cell_type": "code",
   "execution_count": 31,
   "id": "e718d913",
   "metadata": {
    "colab": {
     "base_uri": "https://localhost:8080/"
    },
    "id": "e718d913",
    "outputId": "d4b86757-cdee-4200-ad39-f1029e9b92ab"
   },
   "outputs": [
    {
     "name": "stdout",
     "output_type": "stream",
     "text": [
      "Topic:  Functions\n",
      "Split 0 : RMSE = 0.462 AUC = 0.699\n",
      "Split 1 : RMSE = 0.460 AUC = 0.705\n",
      "Split 2 : RMSE = 0.461 AUC = 0.704\n",
      "Split 3 : RMSE = 0.460 AUC = 0.702\n",
      "Split 4 : RMSE = 0.462 AUC = 0.701\n",
      "\n",
      "Mean RMSE (std): 0.459 (0.003)\n",
      "Mean AUC (std): 0.705, (0.012)\n",
      "-----------------------------------\n",
      "Topic:  Numbers and number quantities\n",
      "Split 0 : RMSE = 0.476 AUC = 0.655\n",
      "Split 1 : RMSE = 0.476 AUC = 0.655\n",
      "Split 2 : RMSE = 0.475 AUC = 0.656\n",
      "Split 3 : RMSE = 0.474 AUC = 0.658\n",
      "Split 4 : RMSE = 0.475 AUC = 0.657\n",
      "\n",
      "Mean RMSE (std): 0.479 (0.002)\n",
      "Mean AUC (std): 0.647, (0.007)\n",
      "-----------------------------------\n",
      "Topic:  Equations\n",
      "Split 0 : RMSE = 0.470 AUC = 0.693\n",
      "Split 1 : RMSE = 0.470 AUC = 0.695\n",
      "Split 2 : RMSE = 0.472 AUC = 0.688\n",
      "Split 3 : RMSE = 0.472 AUC = 0.686\n",
      "Split 4 : RMSE = 0.471 AUC = 0.693\n",
      "\n",
      "Mean RMSE (std): 0.473 (0.003)\n",
      "Mean AUC (std): 0.684, (0.010)\n",
      "-----------------------------------\n",
      "Topic:  Elementary geometry\n",
      "Split 0 : RMSE = 0.477 AUC = 0.659\n",
      "Split 1 : RMSE = 0.480 AUC = 0.649\n",
      "Split 2 : RMSE = 0.477 AUC = 0.658\n",
      "Split 3 : RMSE = 0.482 AUC = 0.637\n",
      "Split 4 : RMSE = 0.480 AUC = 0.645\n",
      "\n",
      "Mean RMSE (std): 0.489 (0.009)\n",
      "Mean AUC (std): 0.612, (0.034)\n",
      "-----------------------------------\n",
      "Topic:  Termere\n",
      "Split 0 : RMSE = 0.481 AUC = 0.629\n",
      "Split 1 : RMSE = 0.479 AUC = 0.632\n",
      "Split 2 : RMSE = 0.482 AUC = 0.627\n",
      "Split 3 : RMSE = 0.480 AUC = 0.633\n",
      "Split 4 : RMSE = 0.481 AUC = 0.629\n",
      "\n",
      "Mean RMSE (std): 0.482 (0.003)\n",
      "Mean AUC (std): 0.628, (0.007)\n",
      "-----------------------------------\n"
     ]
    }
   ],
   "source": [
    "bkt_rmse_means, bkt_rmse_stds = [], []\n",
    "bkt_auc_means, bkt_auc_stds = [], []\n",
    "bkt_models = {}\n",
    "\n",
    "for t in MAIN_TOPICS:\n",
    "    print('Topic: ', t)\n",
    "\n",
    "    # Train and evaluate the model on different split of the data\n",
    "    bkt_model, bkt_rmse, bkt_auc = train_bkt(trials_bin_per_topic_dict[t])\n",
    "    \n",
    "    # Store the mean/std rmse and auc\n",
    "    bkt_rmse_means.append(np.mean(bkt_rmse))\n",
    "    bkt_auc_means.append(np.mean(bkt_auc))\n",
    "    bkt_rmse_stds.append(np.std(bkt_rmse))\n",
    "    bkt_auc_stds.append(np.std(bkt_auc))\n",
    "    \n",
    "    # Store the model per topic\n",
    "    bkt_models[t] = bkt_model\n",
    "    print('-----------------------------------')"
   ]
  },
  {
   "cell_type": "markdown",
   "id": "727c4d63",
   "metadata": {
    "id": "727c4d63"
   },
   "source": [
    "### 2.2 Additive Factors Model (AFM)"
   ]
  },
  {
   "cell_type": "markdown",
   "id": "70c1e5e3",
   "metadata": {
    "id": "70c1e5e3"
   },
   "source": [
    "AFM assumes that the prior knowledge of students may vary (random effect) and incorporates skill difficulty. It also considers that each student will learn a task at the same pace, but that a task can use multiple skills. Finally, it also relies on the fact that each new opportunity improves the learning."
   ]
  },
  {
   "cell_type": "code",
   "execution_count": 32,
   "id": "Tpm2IzHCTdLC",
   "metadata": {
    "id": "Tpm2IzHCTdLC"
   },
   "outputs": [],
   "source": [
    "# %load_ext rpy2.ipython"
   ]
  },
  {
   "cell_type": "code",
   "execution_count": 33,
   "id": "_wISJXNNTeWD",
   "metadata": {
    "id": "_wISJXNNTeWD"
   },
   "outputs": [],
   "source": [
    "# %%R\n",
    "# install.packages('lme4')"
   ]
  },
  {
   "cell_type": "code",
   "execution_count": 34,
   "id": "c2fe438f",
   "metadata": {
    "colab": {
     "base_uri": "https://localhost:8080/",
     "height": 494
    },
    "id": "c2fe438f",
    "outputId": "ae8f7774-fff5-4a4c-9653-d2cb147aa90a"
   },
   "outputs": [
    {
     "name": "stdout",
     "output_type": "stream",
     "text": [
      "Formula: evaluation~(1|user_id)+(1|topic_id)+(0+prev_attempts|topic_id)\n",
      "\n",
      "Family: binomial\t Inference: parametric\n",
      "\n",
      "Number of observations: 95910\t Groups: {'user_id': 4153.0, 'topic_id': 92.0}\n",
      "\n",
      "Log-likelihood: -60855.999 \t AIC: 121719.998\n",
      "\n",
      "Random effects:\n",
      "\n",
      "                     Name     Var     Std\n",
      "user_id       (Intercept) 0.41800 0.64700\n",
      "topic_id      (Intercept) 0.28900 0.53800\n",
      "topic_id.1  prev_attempts 0.00200 0.04700\n",
      "\n",
      "No random effect correlations specified\n",
      "\n",
      "Fixed effects:\n",
      "\n"
     ]
    },
    {
     "data": {
      "text/html": [
       "<div>\n",
       "<style scoped>\n",
       "    .dataframe tbody tr th:only-of-type {\n",
       "        vertical-align: middle;\n",
       "    }\n",
       "\n",
       "    .dataframe tbody tr th {\n",
       "        vertical-align: top;\n",
       "    }\n",
       "\n",
       "    .dataframe thead th {\n",
       "        text-align: right;\n",
       "    }\n",
       "</style>\n",
       "<table border=\"1\" class=\"dataframe\">\n",
       "  <thead>\n",
       "    <tr style=\"text-align: right;\">\n",
       "      <th></th>\n",
       "      <th>Estimate</th>\n",
       "      <th>2.5_ci</th>\n",
       "      <th>97.5_ci</th>\n",
       "      <th>SE</th>\n",
       "      <th>OR</th>\n",
       "      <th>OR_2.5_ci</th>\n",
       "      <th>OR_97.5_ci</th>\n",
       "      <th>Prob</th>\n",
       "      <th>Prob_2.5_ci</th>\n",
       "      <th>Prob_97.5_ci</th>\n",
       "      <th>Z-stat</th>\n",
       "      <th>P-val</th>\n",
       "      <th>Sig</th>\n",
       "    </tr>\n",
       "  </thead>\n",
       "  <tbody>\n",
       "    <tr>\n",
       "      <th>(Intercept)</th>\n",
       "      <td>0.02500</td>\n",
       "      <td>-0.09100</td>\n",
       "      <td>0.14200</td>\n",
       "      <td>0.05900</td>\n",
       "      <td>1.02600</td>\n",
       "      <td>0.91300</td>\n",
       "      <td>1.15300</td>\n",
       "      <td>0.50600</td>\n",
       "      <td>0.47700</td>\n",
       "      <td>0.53500</td>\n",
       "      <td>0.42900</td>\n",
       "      <td>0.66800</td>\n",
       "      <td></td>\n",
       "    </tr>\n",
       "  </tbody>\n",
       "</table>\n",
       "</div>"
      ],
      "text/plain": [
       "             Estimate   2.5_ci  97.5_ci      SE      OR  OR_2.5_ci  \\\n",
       "(Intercept)   0.02500 -0.09100  0.14200 0.05900 1.02600    0.91300   \n",
       "\n",
       "             OR_97.5_ci    Prob  Prob_2.5_ci  Prob_97.5_ci  Z-stat   P-val Sig  \n",
       "(Intercept)     1.15300 0.50600      0.47700       0.53500 0.42900 0.66800      "
      ]
     },
     "execution_count": 34,
     "metadata": {},
     "output_type": "execute_result"
    }
   ],
   "source": [
    "# Initialize and fit the model\n",
    "afm_model = Lmer(\n",
    "    \"evaluation ~ (1|user_id) + (1|topic_id) + (0 + prev_attempts|topic_id)\", \n",
    "    data=X_train_val, family='binomial'\n",
    ")\n",
    "afm_model.fit() "
   ]
  },
  {
   "cell_type": "code",
   "execution_count": 35,
   "id": "eb4789a7",
   "metadata": {
    "id": "eb4789a7"
   },
   "outputs": [],
   "source": [
    "# Compute predictions for test set\n",
    "X_test['afm_predictions'] = afm_model.predict(data=X_test, verify_predictions=False)"
   ]
  },
  {
   "cell_type": "markdown",
   "id": "2c6288e6",
   "metadata": {
    "id": "2c6288e6"
   },
   "source": [
    "### 2.3 Performance Factors Analysis (PFA)"
   ]
  },
  {
   "cell_type": "markdown",
   "id": "85f198fc",
   "metadata": {
    "id": "85f198fc"
   },
   "source": [
    "#### 2.3.1 Original PFA (binary evaluation)"
   ]
  },
  {
   "cell_type": "markdown",
   "id": "c52ae443",
   "metadata": {
    "id": "c52ae443"
   },
   "source": [
    "PFA is a model similar to AFM, but now each opportunities does not improve the learning in the same way. It assumes that the learning rate is different for correct and wrong answers.  \n",
    "Our AFM and PFA models assume that a question only belongs to the topic it is directly assigned. "
   ]
  },
  {
   "cell_type": "code",
   "execution_count": 36,
   "id": "4f9446e4",
   "metadata": {
    "colab": {
     "base_uri": "https://localhost:8080/",
     "height": 512
    },
    "id": "4f9446e4",
    "outputId": "29d0d954-abfa-49a0-8a06-5ece4786484e"
   },
   "outputs": [
    {
     "name": "stdout",
     "output_type": "stream",
     "text": [
      "Formula: evaluation~(1|user_id)+(1|topic_id)+(0+prev_correct_attempts|topic_id)+(0+prev_wrong_attempts|topic_id)\n",
      "\n",
      "Family: binomial\t Inference: parametric\n",
      "\n",
      "Number of observations: 95910\t Groups: {'user_id': 4153.0, 'topic_id': 92.0}\n",
      "\n",
      "Log-likelihood: -60661.439 \t AIC: 121332.877\n",
      "\n",
      "Random effects:\n",
      "\n",
      "                             Name     Var     Std\n",
      "user_id               (Intercept) 0.34600 0.58800\n",
      "topic_id              (Intercept) 0.27700 0.52700\n",
      "topic_id.1  prev_correct_attempts 0.00700 0.08500\n",
      "topic_id.2    prev_wrong_attempts 0.00500 0.07000\n",
      "\n",
      "No random effect correlations specified\n",
      "\n",
      "Fixed effects:\n",
      "\n"
     ]
    },
    {
     "data": {
      "text/html": [
       "<div>\n",
       "<style scoped>\n",
       "    .dataframe tbody tr th:only-of-type {\n",
       "        vertical-align: middle;\n",
       "    }\n",
       "\n",
       "    .dataframe tbody tr th {\n",
       "        vertical-align: top;\n",
       "    }\n",
       "\n",
       "    .dataframe thead th {\n",
       "        text-align: right;\n",
       "    }\n",
       "</style>\n",
       "<table border=\"1\" class=\"dataframe\">\n",
       "  <thead>\n",
       "    <tr style=\"text-align: right;\">\n",
       "      <th></th>\n",
       "      <th>Estimate</th>\n",
       "      <th>2.5_ci</th>\n",
       "      <th>97.5_ci</th>\n",
       "      <th>SE</th>\n",
       "      <th>OR</th>\n",
       "      <th>OR_2.5_ci</th>\n",
       "      <th>OR_97.5_ci</th>\n",
       "      <th>Prob</th>\n",
       "      <th>Prob_2.5_ci</th>\n",
       "      <th>Prob_97.5_ci</th>\n",
       "      <th>Z-stat</th>\n",
       "      <th>P-val</th>\n",
       "      <th>Sig</th>\n",
       "    </tr>\n",
       "  </thead>\n",
       "  <tbody>\n",
       "    <tr>\n",
       "      <th>(Intercept)</th>\n",
       "      <td>0.02300</td>\n",
       "      <td>-0.09100</td>\n",
       "      <td>0.13700</td>\n",
       "      <td>0.05800</td>\n",
       "      <td>1.02400</td>\n",
       "      <td>0.91300</td>\n",
       "      <td>1.14700</td>\n",
       "      <td>0.50600</td>\n",
       "      <td>0.47700</td>\n",
       "      <td>0.53400</td>\n",
       "      <td>0.40300</td>\n",
       "      <td>0.68700</td>\n",
       "      <td></td>\n",
       "    </tr>\n",
       "  </tbody>\n",
       "</table>\n",
       "</div>"
      ],
      "text/plain": [
       "             Estimate   2.5_ci  97.5_ci      SE      OR  OR_2.5_ci  \\\n",
       "(Intercept)   0.02300 -0.09100  0.13700 0.05800 1.02400    0.91300   \n",
       "\n",
       "             OR_97.5_ci    Prob  Prob_2.5_ci  Prob_97.5_ci  Z-stat   P-val Sig  \n",
       "(Intercept)     1.14700 0.50600      0.47700       0.53400 0.40300 0.68700      "
      ]
     },
     "execution_count": 36,
     "metadata": {},
     "output_type": "execute_result"
    }
   ],
   "source": [
    "# Initialize and fit the model\n",
    "pfa_model = Lmer(\n",
    "    \"evaluation ~ (1|user_id) + (1|topic_id) + (0 + prev_correct_attempts|topic_id) + \\\n",
    "    (0 + prev_wrong_attempts|topic_id)\", data=X_train_val, family='binomial'\n",
    ")\n",
    "pfa_model.fit() "
   ]
  },
  {
   "cell_type": "code",
   "execution_count": 37,
   "id": "d4ab0b20",
   "metadata": {
    "id": "d4ab0b20"
   },
   "outputs": [],
   "source": [
    "# Compute predictions for test set\n",
    "X_test['pfa_predictions'] = pfa_model.predict(data=X_test, verify_predictions=False)"
   ]
  },
  {
   "cell_type": "markdown",
   "id": "e6cbeaf2",
   "metadata": {
    "id": "e6cbeaf2"
   },
   "source": [
    "#### 2.3.2 Extended PFA (with estimated difficulty)"
   ]
  },
  {
   "cell_type": "code",
   "execution_count": 38,
   "id": "3f059503",
   "metadata": {
    "colab": {
     "base_uri": "https://localhost:8080/",
     "height": 604
    },
    "id": "3f059503",
    "outputId": "386cb46d-3fc8-4c90-9b31-45a6cf77f5fc"
   },
   "outputs": [
    {
     "name": "stdout",
     "output_type": "stream",
     "text": [
      "**NOTE**: Column for 'residuals' not created in model.data, but saved in model.resid only. This is because you have rows with NaNs in your data.\n",
      "\n",
      "**NOTE** Column for 'fits' not created in model.data, but saved in model.fits only. This is because you have rows with NaNs in your data.\n",
      "\n",
      "Formula: evaluation~(1|user_id)+(1|topic_id)+(1|difficulty)+(0+prev_correct_attempts|topic_id)+(0+prev_wrong_attempts|topic_id)\n",
      "\n",
      "Family: binomial\t Inference: parametric\n",
      "\n",
      "Number of observations: 95910\t Groups: {'user_id': 4118.0, 'topic_id': 91.0, 'difficulty': 4.0}\n",
      "\n",
      "Log-likelihood: -52017.550 \t AIC: 104047.101\n",
      "\n",
      "Random effects:\n",
      "\n",
      "                             Name     Var     Std\n",
      "user_id               (Intercept) 0.36100 0.60000\n",
      "topic_id      prev_wrong_attempts 0.00600 0.07600\n",
      "topic_id.1  prev_correct_attempts 0.01100 0.10400\n",
      "topic_id.2            (Intercept) 0.26800 0.51800\n",
      "difficulty            (Intercept) 0.08800 0.29600\n",
      "\n",
      "No random effect correlations specified\n",
      "\n",
      "Fixed effects:\n",
      "\n"
     ]
    },
    {
     "data": {
      "text/html": [
       "<div>\n",
       "<style scoped>\n",
       "    .dataframe tbody tr th:only-of-type {\n",
       "        vertical-align: middle;\n",
       "    }\n",
       "\n",
       "    .dataframe tbody tr th {\n",
       "        vertical-align: top;\n",
       "    }\n",
       "\n",
       "    .dataframe thead th {\n",
       "        text-align: right;\n",
       "    }\n",
       "</style>\n",
       "<table border=\"1\" class=\"dataframe\">\n",
       "  <thead>\n",
       "    <tr style=\"text-align: right;\">\n",
       "      <th></th>\n",
       "      <th>Estimate</th>\n",
       "      <th>2.5_ci</th>\n",
       "      <th>97.5_ci</th>\n",
       "      <th>SE</th>\n",
       "      <th>OR</th>\n",
       "      <th>OR_2.5_ci</th>\n",
       "      <th>OR_97.5_ci</th>\n",
       "      <th>Prob</th>\n",
       "      <th>Prob_2.5_ci</th>\n",
       "      <th>Prob_97.5_ci</th>\n",
       "      <th>Z-stat</th>\n",
       "      <th>P-val</th>\n",
       "      <th>Sig</th>\n",
       "    </tr>\n",
       "  </thead>\n",
       "  <tbody>\n",
       "    <tr>\n",
       "      <th>(Intercept)</th>\n",
       "      <td>-0.16200</td>\n",
       "      <td>-0.47800</td>\n",
       "      <td>0.15300</td>\n",
       "      <td>0.16100</td>\n",
       "      <td>0.85000</td>\n",
       "      <td>0.62000</td>\n",
       "      <td>1.16600</td>\n",
       "      <td>0.45900</td>\n",
       "      <td>0.38300</td>\n",
       "      <td>0.53800</td>\n",
       "      <td>-1.00800</td>\n",
       "      <td>0.31300</td>\n",
       "      <td></td>\n",
       "    </tr>\n",
       "  </tbody>\n",
       "</table>\n",
       "</div>"
      ],
      "text/plain": [
       "             Estimate   2.5_ci  97.5_ci      SE      OR  OR_2.5_ci  \\\n",
       "(Intercept)  -0.16200 -0.47800  0.15300 0.16100 0.85000    0.62000   \n",
       "\n",
       "             OR_97.5_ci    Prob  Prob_2.5_ci  Prob_97.5_ci   Z-stat   P-val  \\\n",
       "(Intercept)     1.16600 0.45900      0.38300       0.53800 -1.00800 0.31300   \n",
       "\n",
       "            Sig  \n",
       "(Intercept)      "
      ]
     },
     "execution_count": 38,
     "metadata": {},
     "output_type": "execute_result"
    }
   ],
   "source": [
    "# Initialize and fit the model\n",
    "pfa_ed_model = Lmer(\n",
    "    \"evaluation ~ (1|user_id) + (1|topic_id) + (1|difficulty) + (0 + prev_correct_attempts|topic_id) + \\\n",
    "     (0 + prev_wrong_attempts|topic_id)\", \n",
    "    data=X_train_val, family='binomial'\n",
    ")\n",
    "pfa_ed_model.fit() "
   ]
  },
  {
   "cell_type": "code",
   "execution_count": 39,
   "id": "672c0a06",
   "metadata": {
    "id": "672c0a06"
   },
   "outputs": [],
   "source": [
    "# Compute predictions for test set\n",
    "X_test['pfa_ed_predictions'] = pfa_ed_model.predict(data=X_test, verify_predictions=False)"
   ]
  },
  {
   "cell_type": "markdown",
   "id": "a7d6c46a",
   "metadata": {
    "id": "a7d6c46a"
   },
   "source": [
    "#### 2.3.3 Extended PFA (with partial evaluation)"
   ]
  },
  {
   "cell_type": "code",
   "execution_count": 40,
   "id": "a428e548",
   "metadata": {
    "colab": {
     "base_uri": "https://localhost:8080/",
     "height": 567
    },
    "id": "a428e548",
    "outputId": "7677945b-50ec-4db1-b5df-de8d22ae4aee"
   },
   "outputs": [
    {
     "name": "stdout",
     "output_type": "stream",
     "text": [
      "boundary (singular) fit: see ?isSingular \n",
      "\n",
      "Formula: evaluation~(1|user_id)+(1|topic_id)+(0+prev_correct_attempts|topic_id)+(0+prev_partial_attempts|topic_id)+(0+prev_wrong_attempts|topic_id)\n",
      "\n",
      "Family: binomial\t Inference: parametric\n",
      "\n",
      "Number of observations: 95910\t Groups: {'user_id': 4153.0, 'topic_id': 92.0}\n",
      "\n",
      "Log-likelihood: -64792.883 \t AIC: 129597.766\n",
      "\n",
      "Random effects:\n",
      "\n",
      "                             Name     Var     Std\n",
      "user_id               (Intercept) 0.08200 0.28600\n",
      "topic_id              (Intercept) 0.00000 0.00000\n",
      "topic_id.1  prev_correct_attempts 0.00400 0.06300\n",
      "topic_id.2  prev_partial_attempts 0.00000 0.00000\n",
      "topic_id.3    prev_wrong_attempts 0.00500 0.06900\n",
      "\n",
      "No random effect correlations specified\n",
      "\n",
      "Fixed effects:\n",
      "\n"
     ]
    },
    {
     "data": {
      "text/html": [
       "<div>\n",
       "<style scoped>\n",
       "    .dataframe tbody tr th:only-of-type {\n",
       "        vertical-align: middle;\n",
       "    }\n",
       "\n",
       "    .dataframe tbody tr th {\n",
       "        vertical-align: top;\n",
       "    }\n",
       "\n",
       "    .dataframe thead th {\n",
       "        text-align: right;\n",
       "    }\n",
       "</style>\n",
       "<table border=\"1\" class=\"dataframe\">\n",
       "  <thead>\n",
       "    <tr style=\"text-align: right;\">\n",
       "      <th></th>\n",
       "      <th>Estimate</th>\n",
       "      <th>2.5_ci</th>\n",
       "      <th>97.5_ci</th>\n",
       "      <th>SE</th>\n",
       "      <th>OR</th>\n",
       "      <th>OR_2.5_ci</th>\n",
       "      <th>OR_97.5_ci</th>\n",
       "      <th>Prob</th>\n",
       "      <th>Prob_2.5_ci</th>\n",
       "      <th>Prob_97.5_ci</th>\n",
       "      <th>Z-stat</th>\n",
       "      <th>P-val</th>\n",
       "      <th>Sig</th>\n",
       "    </tr>\n",
       "  </thead>\n",
       "  <tbody>\n",
       "    <tr>\n",
       "      <th>(Intercept)</th>\n",
       "      <td>0.04800</td>\n",
       "      <td>0.02800</td>\n",
       "      <td>0.06700</td>\n",
       "      <td>0.01000</td>\n",
       "      <td>1.04900</td>\n",
       "      <td>1.02900</td>\n",
       "      <td>1.07000</td>\n",
       "      <td>0.51200</td>\n",
       "      <td>0.50700</td>\n",
       "      <td>0.51700</td>\n",
       "      <td>4.78400</td>\n",
       "      <td>0.00000</td>\n",
       "      <td>***</td>\n",
       "    </tr>\n",
       "  </tbody>\n",
       "</table>\n",
       "</div>"
      ],
      "text/plain": [
       "             Estimate  2.5_ci  97.5_ci      SE      OR  OR_2.5_ci  OR_97.5_ci  \\\n",
       "(Intercept)   0.04800 0.02800  0.06700 0.01000 1.04900    1.02900     1.07000   \n",
       "\n",
       "               Prob  Prob_2.5_ci  Prob_97.5_ci  Z-stat   P-val  Sig  \n",
       "(Intercept) 0.51200      0.50700       0.51700 4.78400 0.00000  ***  "
      ]
     },
     "execution_count": 40,
     "metadata": {},
     "output_type": "execute_result"
    }
   ],
   "source": [
    "# Initialize and fit the model\n",
    "pfa_pe_model = Lmer(\n",
    "    \"evaluation ~ (1|user_id) + (1|topic_id) + (0 + prev_correct_attempts|topic_id) + \\\n",
    "    (0 + prev_partial_attempts|topic_id) + (0 + prev_wrong_attempts|topic_id)\", \n",
    "    data=X_partial_train_val, family='binomial'\n",
    ")\n",
    "pfa_pe_model.fit() "
   ]
  },
  {
   "cell_type": "code",
   "execution_count": 41,
   "id": "a715fbae",
   "metadata": {
    "id": "a715fbae"
   },
   "outputs": [],
   "source": [
    "# Compute predictions for test set\n",
    "X_partial_test['pfa_pe_predictions'] = pfa_pe_model.predict(data=X_partial_test, verify_predictions=False)"
   ]
  },
  {
   "cell_type": "markdown",
   "id": "e3ec2a10",
   "metadata": {
    "id": "e3ec2a10"
   },
   "source": [
    "#### 2.3.4 Extended PFA (with partial evaluation & estimated difficulty)"
   ]
  },
  {
   "cell_type": "code",
   "execution_count": 42,
   "id": "995a5316",
   "metadata": {
    "colab": {
     "base_uri": "https://localhost:8080/",
     "height": 622
    },
    "id": "995a5316",
    "outputId": "5a485d4a-56e1-4c27-84b1-75f07611925d"
   },
   "outputs": [
    {
     "name": "stdout",
     "output_type": "stream",
     "text": [
      "**NOTE**: Column for 'residuals' not created in model.data, but saved in model.resid only. This is because you have rows with NaNs in your data.\n",
      "\n",
      "**NOTE** Column for 'fits' not created in model.data, but saved in model.fits only. This is because you have rows with NaNs in your data.\n",
      "\n",
      "Formula: evaluation~(1|user_id)+(1|topic_id)+(1|difficulty)+(0+prev_correct_attempts|topic_id)+(0+prev_partial_attempts|topic_id)+(0+prev_wrong_attempts|topic_id)\n",
      "\n",
      "Family: binomial\t Inference: parametric\n",
      "\n",
      "Number of observations: 95910\t Groups: {'user_id': 4118.0, 'topic_id': 91.0, 'difficulty': 4.0}\n",
      "\n",
      "Log-likelihood: -56217.950 \t AIC: 112449.900\n",
      "\n",
      "Random effects:\n",
      "\n",
      "                             Name     Var     Std\n",
      "user_id               (Intercept) 0.24900 0.49900\n",
      "topic_id      prev_wrong_attempts 0.00600 0.08000\n",
      "topic_id.1  prev_partial_attempts 0.00200 0.04100\n",
      "topic_id.2  prev_correct_attempts 0.00900 0.09700\n",
      "topic_id.3            (Intercept) 0.08500 0.29200\n",
      "difficulty            (Intercept) 0.00600 0.07600\n",
      "\n",
      "No random effect correlations specified\n",
      "\n",
      "Fixed effects:\n",
      "\n"
     ]
    },
    {
     "data": {
      "text/html": [
       "<div>\n",
       "<style scoped>\n",
       "    .dataframe tbody tr th:only-of-type {\n",
       "        vertical-align: middle;\n",
       "    }\n",
       "\n",
       "    .dataframe tbody tr th {\n",
       "        vertical-align: top;\n",
       "    }\n",
       "\n",
       "    .dataframe thead th {\n",
       "        text-align: right;\n",
       "    }\n",
       "</style>\n",
       "<table border=\"1\" class=\"dataframe\">\n",
       "  <thead>\n",
       "    <tr style=\"text-align: right;\">\n",
       "      <th></th>\n",
       "      <th>Estimate</th>\n",
       "      <th>2.5_ci</th>\n",
       "      <th>97.5_ci</th>\n",
       "      <th>SE</th>\n",
       "      <th>OR</th>\n",
       "      <th>OR_2.5_ci</th>\n",
       "      <th>OR_97.5_ci</th>\n",
       "      <th>Prob</th>\n",
       "      <th>Prob_2.5_ci</th>\n",
       "      <th>Prob_97.5_ci</th>\n",
       "      <th>Z-stat</th>\n",
       "      <th>P-val</th>\n",
       "      <th>Sig</th>\n",
       "    </tr>\n",
       "  </thead>\n",
       "  <tbody>\n",
       "    <tr>\n",
       "      <th>(Intercept)</th>\n",
       "      <td>-0.09000</td>\n",
       "      <td>-0.19800</td>\n",
       "      <td>0.01700</td>\n",
       "      <td>0.05500</td>\n",
       "      <td>0.91400</td>\n",
       "      <td>0.82000</td>\n",
       "      <td>1.01800</td>\n",
       "      <td>0.47700</td>\n",
       "      <td>0.45100</td>\n",
       "      <td>0.50400</td>\n",
       "      <td>-1.64400</td>\n",
       "      <td>0.10000</td>\n",
       "      <td></td>\n",
       "    </tr>\n",
       "  </tbody>\n",
       "</table>\n",
       "</div>"
      ],
      "text/plain": [
       "             Estimate   2.5_ci  97.5_ci      SE      OR  OR_2.5_ci  \\\n",
       "(Intercept)  -0.09000 -0.19800  0.01700 0.05500 0.91400    0.82000   \n",
       "\n",
       "             OR_97.5_ci    Prob  Prob_2.5_ci  Prob_97.5_ci   Z-stat   P-val  \\\n",
       "(Intercept)     1.01800 0.47700      0.45100       0.50400 -1.64400 0.10000   \n",
       "\n",
       "            Sig  \n",
       "(Intercept)      "
      ]
     },
     "execution_count": 42,
     "metadata": {},
     "output_type": "execute_result"
    }
   ],
   "source": [
    "# Initialize and fit the model\n",
    "pfa_pe_ed_model = Lmer(\n",
    "    \"evaluation ~ (1|user_id) + (1|topic_id) + (1|difficulty) + (0 + prev_correct_attempts|topic_id) + \\\n",
    "    (0 + prev_partial_attempts|topic_id) + (0 + prev_wrong_attempts|topic_id)\", \n",
    "    data=X_partial_train_val, family='binomial'\n",
    ")\n",
    "pfa_pe_ed_model.fit() "
   ]
  },
  {
   "cell_type": "code",
   "execution_count": 43,
   "id": "2c7488f0",
   "metadata": {
    "id": "2c7488f0"
   },
   "outputs": [],
   "source": [
    "# Compute predictions for test set\n",
    "X_partial_test['pfa_pe_ed_predictions'] = pfa_pe_ed_model.predict(data=X_partial_test, verify_predictions=False)"
   ]
  },
  {
   "cell_type": "markdown",
   "id": "d178922b",
   "metadata": {
    "id": "d178922b"
   },
   "source": [
    "### 2.4 Deep Knowledge Tracing (DKT)\n",
    "In this section, we consider a neural network for knowledge tracing. Deep Knowledge Tracing allows for flexible models that can capture relationships between different topics. To that end, we fit a RNN model (also considering the variants – LSTM and GRU) to the dataset with all the data that belong to the 5 main topics.\n",
    "\n",
    "We train the network for 20 epochs with early stopping and Adam optimizer."
   ]
  },
  {
   "cell_type": "code",
   "execution_count": 44,
   "id": "824746c1",
   "metadata": {
    "colab": {
     "base_uri": "https://localhost:8080/"
    },
    "id": "824746c1",
    "outputId": "333f1047-ac29-4ff7-edc6-bc268b207634"
   },
   "outputs": [
    {
     "name": "stdout",
     "output_type": "stream",
     "text": [
      "Num GPUs Available:  0\n"
     ]
    }
   ],
   "source": [
    "print(\"Num GPUs Available: \", len(tf.config.list_physical_devices('GPU')))"
   ]
  },
  {
   "cell_type": "code",
   "execution_count": 45,
   "id": "7d11086e",
   "metadata": {
    "id": "7d11086e"
   },
   "outputs": [
    {
     "name": "stderr",
     "output_type": "stream",
     "text": [
      "2022-06-12 19:17:31.433381: I tensorflow/core/platform/cpu_feature_guard.cc:151] This TensorFlow binary is optimized with oneAPI Deep Neural Network Library (oneDNN) to use the following CPU instructions in performance-critical operations:  AVX2 FMA\n",
      "To enable them in other operations, rebuild TensorFlow with the appropriate compiler flags.\n"
     ]
    }
   ],
   "source": [
    "# Define the parameters of our model\n",
    "params = {}\n",
    "params['batch_size'] = 32\n",
    "params['mask_value'] = -1.0\n",
    "params['verbose'] = 1\n",
    "params['best_model_weights'] = 'weights/bestmodel' \n",
    "params['optimizer'] = 'adam'\n",
    "params['recurrent_units'] = 16 # tuned\n",
    "params['epochs'] = 20\n",
    "params['dropout_rate'] = 0.22291366459641143 # tuned\n",
    "params['activation'] = 'sigmoid'\n",
    "params['metrics'] = [AUC(), RMSE()]\n",
    "params['loss_fn'] = CustomMeanSquaredError\n",
    "params['backbone_nn'] = tf.keras.layers.GRU"
   ]
  },
  {
   "cell_type": "markdown",
   "id": "1d926961",
   "metadata": {
    "id": "1d926961"
   },
   "source": [
    "The data is preprocessed for the model by generating sequences for each user. Each topic is first encoded as a category. Then, we create a feature which has the size of `2 * #topics` such that one half corresponds to correctly answered topics and the other to incorrect answers. The sequences are then shifted by 1 and padded in each batch using a masking parameter, to indicate that a value should not be considered.\n",
    "\n",
    "If partial credit is considered, the features have shape `3 * #topics`. We also try to include the difficulty of the question as a feature."
   ]
  },
  {
   "cell_type": "code",
   "execution_count": 46,
   "id": "9e4a15ad",
   "metadata": {
    "id": "9e4a15ad"
   },
   "outputs": [],
   "source": [
    "# Impute missing difficulty level with the most common value\n",
    "trials_partial_all_df['difficulty'].fillna(trials_partial_all_df['difficulty'].mode()[0], inplace=True)\n",
    "trials_bin_all_df['difficulty'].fillna(trials_bin_all_df['difficulty'].mode()[0], inplace=True)"
   ]
  },
  {
   "cell_type": "code",
   "execution_count": 47,
   "id": "b2d2a405",
   "metadata": {
    "id": "b2d2a405"
   },
   "outputs": [],
   "source": [
    "def generate_features(df, params, incl_difficulty=False): # Whether or not to include difficulty of the question\n",
    "\n",
    "    seq, features_depth, skill_depth = prepare_seq(df)\n",
    "    seq_train = seq[X_train.user_id.unique()]\n",
    "    seq_val = seq[X_val.user_id.unique()]\n",
    "    seq_test = seq[X_test.user_id.unique()]\n",
    "\n",
    "    # Prepare the training, validation, and test data in the DKT input format\n",
    "    tf_train, length = prepare_data(seq_train, params, features_depth, skill_depth, incl_difficulty)\n",
    "    tf_val, val_length  = prepare_data(seq_val, params, features_depth, skill_depth, incl_difficulty)\n",
    "    tf_test, test_length = prepare_data(seq_test, params, features_depth, skill_depth, incl_difficulty)\n",
    "\n",
    "    # Calculate the length of each of the train-test-val sets and store as parameters\n",
    "    params['train_size'] = int(length // params['batch_size'])\n",
    "    params['val_size'] = int(val_length // params['batch_size'])\n",
    "    params['test_size'] = int(test_length // params['batch_size'])\n",
    "\n",
    "    num_features = features_depth + int(incl_difficulty)\n",
    "\n",
    "    return tf_train, tf_val, tf_test, num_features, skill_depth, params"
   ]
  },
  {
   "cell_type": "markdown",
   "id": "9c6ecde4",
   "metadata": {
    "id": "9c6ecde4"
   },
   "source": [
    "We use [Optuna](https://optuna.org/) to tune the hyperparameters. This framework automates the hyperparameter tuning and efficiently explores the search space. It is however expensive to run many trials, so we restrict the search space to [4, 8, 16, 32] recurrent units and droput between 0.001 and 0.5, as we do not expect strong regularization will be needed with the small amount of data that we have at hand. We run 25 trials with pruning (i.e. an unpromissing trial may be stopped early). Moreover, the tuning will stop if no improvement is found in the 5 last trials."
   ]
  },
  {
   "cell_type": "code",
   "execution_count": 48,
   "id": "693c4352",
   "metadata": {
    "colab": {
     "base_uri": "https://localhost:8080/",
     "height": 981
    },
    "id": "693c4352",
    "outputId": "edcc4954-9b7d-49c4-ac99-b599cfcfc0c1"
   },
   "outputs": [],
   "source": [
    "def objective(trial):\n",
    "    tf.keras.backend.clear_session()\n",
    "\n",
    "    recurrent_units = trial.suggest_categorical(\"recurrent_units\", [4, 8, 16, 32])\n",
    "    dropout_rate = trial.suggest_float(\"dropout_rate\", 1e-3, 0.5, log=True) # dropout in [0.001, 0.5]\n",
    "    params['recurrent_units'] = recurrent_units\n",
    "    params['dropout_rate'] = dropout_rate\n",
    "    \n",
    "    callbacks = [\n",
    "        tf.keras.callbacks.EarlyStopping(patience=5),\n",
    "        optuna.integration.TFKerasPruningCallback(trial, \"val_loss\") # prune unpromising trials\n",
    "    ]\n",
    "\n",
    "    dkt = create_model(num_features, skill_depth, params)\n",
    "    history = dkt.fit(tf_train, epochs=params['epochs'], steps_per_epoch=params['train_size']-1, \n",
    "                    validation_data=tf_val, validation_steps=params['val_size'], verbose=False,\n",
    "                    callbacks=callbacks)\n",
    "\n",
    "    return history.history[\"val_loss\"][-1]"
   ]
  },
  {
   "cell_type": "code",
   "execution_count": 49,
   "id": "d5b30fe8",
   "metadata": {
    "colab": {
     "base_uri": "https://localhost:8080/",
     "height": 747
    },
    "id": "d5b30fe8",
    "outputId": "a9f3ac2d-3ac2-46a7-f6e1-cb832688b118"
   },
   "outputs": [],
   "source": [
    "if RUN_OPTUNA:\n",
    "    partial_credit =  [False, True]\n",
    "    incl_difficulty = [False, True]\n",
    "    backbone = [tf.keras.layers.SimpleRNN, tf.keras.layers.GRU, tf.keras.layers.LSTM]\n",
    "\n",
    "    for pc in partial_credit:\n",
    "        if pc:\n",
    "            df = trials_partial_all_df\n",
    "            params['loss_fn'] = CustomMeanSquaredError\n",
    "            params['metrics'] = [MultiAUC(), RMSE()]\n",
    "        else:\n",
    "            df = trials_bin_all_df\n",
    "            params['loss_fn'] = CustomBinaryCrossEntropy\n",
    "            params['metrics'] = [AUC(), RMSE(), Recall(), Precision()]\n",
    "\n",
    "        for diff in incl_difficulty:\n",
    "            tf_train, tf_val, tf_test, num_features, skill_depth, params = generate_features(df, params, diff)\n",
    "            for bb in backbone:\n",
    "                params['backbone_nn'] = bb\n",
    "\n",
    "                dkt = create_model(num_features, skill_depth, params)\n",
    "                sampler = TPESampler(seed=0) # reproducibility\n",
    "                study = optuna.create_study(sampler=sampler, study_name=\"Tuning dropout and number of units of DKT\")\n",
    "                study.optimize(objective, n_trials=25)\n",
    "\n",
    "                params['recurrent_units'] = study.best_trial.params['recurrent_units']\n",
    "                params['dropout_rate'] = study.best_trial.params['dropout_rate']\n",
    "\n",
    "                ckp_callback = tf.keras.callbacks.ModelCheckpoint(params['best_model_weights'], \n",
    "                                                              save_best_only=True, save_weights_only=True)\n",
    "\n",
    "                history = dkt.fit(tf_train, epochs=params['epochs'], steps_per_epoch=params['train_size']-1, \n",
    "                                  validation_data=tf_val, validation_steps=params['val_size'],\n",
    "                                  callbacks=[ckp_callback], verbose=params['verbose'])\n",
    "                dkt.load_weights(params['best_model_weights'])\n",
    "                dkt_res = dkt.evaluate(tf_test, steps=params['test_size'], verbose=params['verbose'], return_dict=True)\n",
    "\n",
    "                dkt_res.update(params)\n",
    "                del dkt_res['metrics']\n",
    "                dkt_res['loss_fn'] = dkt_res['loss_fn'].__name__\n",
    "                dkt_res['backbone_nn'] = dkt_res['backbone_nn'].__name__\n",
    "                dkt_res['partial_credit'] = pc\n",
    "                dkt_res['include_difficulty'] = diff\n",
    "\n",
    "                with open('./results/results.txt', 'a+') as f:\n",
    "                    f.write(str(dkt_res) + '\\n')"
   ]
  },
  {
   "cell_type": "markdown",
   "id": "912ec8d6",
   "metadata": {},
   "source": [
    "Below we re-fit and re-evaluate the best model:"
   ]
  },
  {
   "cell_type": "code",
   "execution_count": 50,
   "id": "69d23261",
   "metadata": {
    "id": "69d23261"
   },
   "outputs": [],
   "source": [
    "tf_train, tf_val, tf_test, num_features, skill_depth, params = generate_features(trials_bin_all_df, params, False)"
   ]
  },
  {
   "cell_type": "code",
   "execution_count": 51,
   "id": "dfd5c96c",
   "metadata": {
    "colab": {
     "base_uri": "https://localhost:8080/"
    },
    "id": "dfd5c96c",
    "outputId": "5402a06e-b780-4651-ccbb-d86f14cd3092"
   },
   "outputs": [
    {
     "name": "stdout",
     "output_type": "stream",
     "text": [
      "Model: \"DKT\"\n",
      "_________________________________________________________________\n",
      " Layer (type)                Output Shape              Param #   \n",
      "=================================================================\n",
      " inputs (InputLayer)         [(None, None, 184)]       0         \n",
      "                                                                 \n",
      " masking (Masking)           (None, None, 184)         0         \n",
      "                                                                 \n",
      " gru (GRU)                   (None, None, 16)          9696      \n",
      "                                                                 \n",
      " outputs (TimeDistributed)   (None, None, 91)          1547      \n",
      "                                                                 \n",
      "=================================================================\n",
      "Total params: 11,243\n",
      "Trainable params: 11,243\n",
      "Non-trainable params: 0\n",
      "_________________________________________________________________\n"
     ]
    }
   ],
   "source": [
    "# Build and inspect the model\n",
    "dkt = create_model(num_features, skill_depth, params)\n",
    "dkt.summary()"
   ]
  },
  {
   "cell_type": "code",
   "execution_count": 52,
   "id": "c4edb9f4",
   "metadata": {
    "colab": {
     "base_uri": "https://localhost:8080/"
    },
    "id": "c4edb9f4",
    "outputId": "e128ccf4-ae74-43dd-e28c-d922d6ce35e0"
   },
   "outputs": [
    {
     "name": "stdout",
     "output_type": "stream",
     "text": [
      "Epoch 1/20\n",
      "102/102 [==============================] - 20s 123ms/step - loss: 0.0676 - auc: 0.5700 - root_mean_squared_error: 0.5012 - val_loss: 0.0653 - val_auc: 0.6165 - val_root_mean_squared_error: 0.4970\n",
      "Epoch 2/20\n",
      "102/102 [==============================] - 9s 90ms/step - loss: 0.0660 - auc: 0.6171 - root_mean_squared_error: 0.4963 - val_loss: 0.0635 - val_auc: 0.6243 - val_root_mean_squared_error: 0.4911\n",
      "Epoch 3/20\n",
      "102/102 [==============================] - 9s 88ms/step - loss: 0.0648 - auc: 0.6233 - root_mean_squared_error: 0.4905 - val_loss: 0.0624 - val_auc: 0.6314 - val_root_mean_squared_error: 0.4871\n",
      "Epoch 4/20\n",
      "102/102 [==============================] - 9s 92ms/step - loss: 0.0635 - auc: 0.6350 - root_mean_squared_error: 0.4872 - val_loss: 0.0619 - val_auc: 0.6390 - val_root_mean_squared_error: 0.4852\n",
      "Epoch 5/20\n",
      "102/102 [==============================] - 10s 96ms/step - loss: 0.0632 - auc: 0.6454 - root_mean_squared_error: 0.4848 - val_loss: 0.0615 - val_auc: 0.6457 - val_root_mean_squared_error: 0.4835\n",
      "Epoch 6/20\n",
      "102/102 [==============================] - 8s 78ms/step - loss: 0.0630 - auc: 0.6536 - root_mean_squared_error: 0.4829 - val_loss: 0.0612 - val_auc: 0.6523 - val_root_mean_squared_error: 0.4819\n",
      "Epoch 7/20\n",
      "102/102 [==============================] - 9s 89ms/step - loss: 0.0624 - auc: 0.6602 - root_mean_squared_error: 0.4812 - val_loss: 0.0609 - val_auc: 0.6573 - val_root_mean_squared_error: 0.4807\n",
      "Epoch 8/20\n",
      "102/102 [==============================] - 8s 79ms/step - loss: 0.0621 - auc: 0.6666 - root_mean_squared_error: 0.4795 - val_loss: 0.0607 - val_auc: 0.6609 - val_root_mean_squared_error: 0.4796\n",
      "Epoch 9/20\n",
      "102/102 [==============================] - 8s 80ms/step - loss: 0.0608 - auc: 0.6698 - root_mean_squared_error: 0.4783 - val_loss: 0.0605 - val_auc: 0.6642 - val_root_mean_squared_error: 0.4789\n",
      "Epoch 10/20\n",
      "102/102 [==============================] - 7s 69ms/step - loss: 0.0608 - auc: 0.6734 - root_mean_squared_error: 0.4765 - val_loss: 0.0603 - val_auc: 0.6666 - val_root_mean_squared_error: 0.4782\n",
      "Epoch 11/20\n",
      "102/102 [==============================] - 7s 68ms/step - loss: 0.0611 - auc: 0.6776 - root_mean_squared_error: 0.4756 - val_loss: 0.0602 - val_auc: 0.6677 - val_root_mean_squared_error: 0.4778\n",
      "Epoch 12/20\n",
      "102/102 [==============================] - 8s 75ms/step - loss: 0.0613 - auc: 0.6777 - root_mean_squared_error: 0.4759 - val_loss: 0.0602 - val_auc: 0.6688 - val_root_mean_squared_error: 0.4774\n",
      "Epoch 13/20\n",
      "102/102 [==============================] - 8s 77ms/step - loss: 0.0609 - auc: 0.6807 - root_mean_squared_error: 0.4752 - val_loss: 0.0601 - val_auc: 0.6700 - val_root_mean_squared_error: 0.4770\n",
      "Epoch 14/20\n",
      "102/102 [==============================] - 10s 95ms/step - loss: 0.0607 - auc: 0.6815 - root_mean_squared_error: 0.4748 - val_loss: 0.0600 - val_auc: 0.6719 - val_root_mean_squared_error: 0.4766\n",
      "Epoch 15/20\n",
      "102/102 [==============================] - 7s 70ms/step - loss: 0.0608 - auc: 0.6836 - root_mean_squared_error: 0.4742 - val_loss: 0.0599 - val_auc: 0.6730 - val_root_mean_squared_error: 0.4763\n",
      "Epoch 16/20\n",
      "102/102 [==============================] - 7s 65ms/step - loss: 0.0604 - auc: 0.6857 - root_mean_squared_error: 0.4736 - val_loss: 0.0599 - val_auc: 0.6723 - val_root_mean_squared_error: 0.4765\n",
      "Epoch 17/20\n",
      "102/102 [==============================] - 7s 67ms/step - loss: 0.0602 - auc: 0.6870 - root_mean_squared_error: 0.4732 - val_loss: 0.0599 - val_auc: 0.6725 - val_root_mean_squared_error: 0.4765\n",
      "Epoch 18/20\n",
      "102/102 [==============================] - 7s 64ms/step - loss: 0.0605 - auc: 0.6877 - root_mean_squared_error: 0.4730 - val_loss: 0.0599 - val_auc: 0.6720 - val_root_mean_squared_error: 0.4766\n",
      "Epoch 19/20\n",
      "102/102 [==============================] - 7s 70ms/step - loss: 0.0602 - auc: 0.6871 - root_mean_squared_error: 0.4730 - val_loss: 0.0598 - val_auc: 0.6752 - val_root_mean_squared_error: 0.4757\n",
      "Epoch 20/20\n",
      "102/102 [==============================] - 7s 65ms/step - loss: 0.0600 - auc: 0.6908 - root_mean_squared_error: 0.4720 - val_loss: 0.0599 - val_auc: 0.6709 - val_root_mean_squared_error: 0.4768\n"
     ]
    }
   ],
   "source": [
    "# (Re)-fit the best model with the best parameters\n",
    "ckp_callback = tf.keras.callbacks.ModelCheckpoint(params['best_model_weights'], \n",
    "                                                  save_best_only=True, save_weights_only=True)\n",
    "\n",
    "history = dkt.fit(tf_train, epochs=params['epochs'], steps_per_epoch=params['train_size']-1, \n",
    "                       validation_data=tf_val, validation_steps=params['val_size'],\n",
    "                       callbacks=[ckp_callback], verbose=params['verbose'])"
   ]
  },
  {
   "cell_type": "markdown",
   "id": "e6868b28",
   "metadata": {
    "id": "e6868b28"
   },
   "source": [
    "Finally, evaluate the model on the test set:"
   ]
  },
  {
   "cell_type": "code",
   "execution_count": 53,
   "id": "24fef5d5",
   "metadata": {
    "colab": {
     "base_uri": "https://localhost:8080/"
    },
    "id": "24fef5d5",
    "outputId": "c9fd28b0-dabb-4dcf-f596-47f951bc1f80"
   },
   "outputs": [
    {
     "name": "stdout",
     "output_type": "stream",
     "text": [
      "32/32 [==============================] - 1s 30ms/step - loss: 0.0588 - auc: 0.6746 - root_mean_squared_error: 0.4763\n"
     ]
    }
   ],
   "source": [
    "dkt.load_weights(params['best_model_weights'])\n",
    "dkt_res = dkt.evaluate(tf_test, steps=params['test_size'], verbose=params['verbose'], return_dict=True)"
   ]
  },
  {
   "cell_type": "markdown",
   "id": "b3c9a655-cec9-4c57-aec7-7a982f57a3af",
   "metadata": {
    "id": "b3c9a655-cec9-4c57-aec7-7a982f57a3af"
   },
   "source": [
    "## 3 - Model Evaluation"
   ]
  },
  {
   "cell_type": "markdown",
   "id": "c0d9a8a2",
   "metadata": {
    "id": "c0d9a8a2"
   },
   "source": [
    "### 3.1 Bayesian Knowledge Tracing (BKT)"
   ]
  },
  {
   "cell_type": "markdown",
   "id": "014e3ad2",
   "metadata": {
    "id": "014e3ad2"
   },
   "source": [
    "#### 3.1.1 RMSE and AUC"
   ]
  },
  {
   "cell_type": "code",
   "execution_count": 54,
   "id": "f65720b8",
   "metadata": {
    "id": "f65720b8"
   },
   "outputs": [
    {
     "data": {
      "image/png": "[encoded data removed]",
      "text/plain": [
       "<Figure size 432x288 with 1 Axes>"
      ]
     },
     "metadata": {
      "needs_background": "light"
     },
     "output_type": "display_data"
    },
    {
     "data": {
      "image/png": "[encoded data removed]",
      "text/plain": [
       "<Figure size 432x288 with 1 Axes>"
      ]
     },
     "metadata": {
      "needs_background": "light"
     },
     "output_type": "display_data"
    }
   ],
   "source": [
    "results = pd.DataFrame([bkt_rmse_means, bkt_rmse_stds, bkt_auc_means, bkt_auc_stds]).transpose()\n",
    "results.columns = ['bkt_mean_rmse', 'bkt_std_rmse', 'bkt_mean_auc', 'bkt_std_auc']\n",
    "results[['bkt_mean_rmse']].plot(kind='bar', yerr = results[['bkt_std_rmse']].values.T, legend=None)\n",
    "plt.xticks(np.arange(len(MAIN_TOPICS)), MAIN_TOPICS)\n",
    "plt.ylabel('RMSE')\n",
    "plt.show()\n",
    "\n",
    "results[['bkt_mean_auc']].plot(kind='bar', yerr = results[['bkt_std_auc']].values.T, legend=None)\n",
    "plt.xticks(np.arange(len(MAIN_TOPICS)), MAIN_TOPICS)\n",
    "plt.ylabel('AUC')\n",
    "plt.show()"
   ]
  },
  {
   "cell_type": "markdown",
   "id": "8dd23dc1",
   "metadata": {
    "id": "8dd23dc1"
   },
   "source": [
    "**Discussion**  \n",
    "We observe that the models vary depending on the topic. For example, the model fitted on the `Functions` skill has a good accuracy, whereas the models fitted on `Elementary geometry` and `Temere` are a bit less accurate.  \n",
    "Note here that the models fitted on the topics containing more data are more accurate."
   ]
  },
  {
   "cell_type": "markdown",
   "id": "e4668ae2",
   "metadata": {
    "id": "e4668ae2"
   },
   "source": [
    "#### 3.1.2 Learning curves"
   ]
  },
  {
   "cell_type": "code",
   "execution_count": 55,
   "id": "cc9b3a77",
   "metadata": {
    "id": "cc9b3a77"
   },
   "outputs": [
    {
     "data": {
      "image/png": "[encoded data removed]",
      "text/plain": [
       "<Figure size 432x288 with 2 Axes>"
      ]
     },
     "metadata": {
      "needs_background": "light"
     },
     "output_type": "display_data"
    },
    {
     "data": {
      "image/png": "[encoded data removed]",
      "text/plain": [
       "<Figure size 432x288 with 2 Axes>"
      ]
     },
     "metadata": {
      "needs_background": "light"
     },
     "output_type": "display_data"
    },
    {
     "data": {
      "image/png": "[encoded data removed]",
      "text/plain": [
       "<Figure size 432x288 with 2 Axes>"
      ]
     },
     "metadata": {
      "needs_background": "light"
     },
     "output_type": "display_data"
    },
    {
     "data": {
      "image/png": "[encoded data removed]",
      "text/plain": [
       "<Figure size 432x288 with 2 Axes>"
      ]
     },
     "metadata": {
      "needs_background": "light"
     },
     "output_type": "display_data"
    },
    {
     "data": {
      "image/png": "[encoded data removed]",
      "text/plain": [
       "<Figure size 432x288 with 2 Axes>"
      ]
     },
     "metadata": {
      "needs_background": "light"
     },
     "output_type": "display_data"
    }
   ],
   "source": [
    "for t in MAIN_TOPICS:\n",
    "    preds = bkt_models[t].predict(data=trials_bin_per_topic_dict[t])[['user_id', 'topic_id', 'evaluation', 'correct_predictions']]\n",
    "    preds.columns = ['user_id', 'skill_name', 'y_true', 'y_pred_bkt']\n",
    "    plot_learning_curve(preds, title='Learning curve for ' + t)"
   ]
  },
  {
   "cell_type": "markdown",
   "id": "62968daa",
   "metadata": {
    "id": "62968daa"
   },
   "source": [
    "**Discussion**  \n",
    "\n",
    "• **Functions**: Looking at the ground truth data (in blue), we see that the initial error rate (for early stages,\n",
    "where the data are most reliable) is just below 0.5. The errors rate then decreases slightly as the students\n",
    "practice more questions, but starts increasing again after around 20 questions. This may be because more\n",
    "difficult questions are given to the user from Lernnavi to challenge him/her. The data become too noisy\n",
    "after around 50 questions, as there are not many students left who answered at least this many questions.\n",
    "The confidence interval becomes too wide after that point and therefore there may be large discrepancies\n",
    "between students, and the BKT model (orange), although offering a good fit in the early stages (especially\n",
    "until question 25), is no longer very accurate. Note that the number of students still involved with the topic\n",
    "goes down after 12 practice questions.  \n",
    "\n",
    "• **Number quantities**: Starting at around 0.5 error rate, we notice a small improvement in the Number\n",
    "quantities knowledge after the first few questions. However the error rate is not very stable already from the\n",
    "start, indicating there are be large discrepancies among users, which are further emphasized once the sample\n",
    "size is reduced (after a 10-20 questions.  \n",
    "\n",
    "• **Equations**: This topic seems to be on the more challenging side at first, with error rate around 0.6. The\n",
    "users then improve fast, as the ground truth error rate drops below 0.5 within 20 practice questions. The error\n",
    "rate is stable until about 50 questions, then gets wider and therefore it becomes hard to draw conclusions\n",
    "from the later stages, the BKT fit however suggests that the users do improve their skills over time, despite\n",
    "the uptake being reduced significantly after 10-20 questions.  \n",
    "\n",
    "• **Elementary geometry**: Users studying geometry seem to plateau around a 0.5 error rate in the early\n",
    "stages, then start improving slightly once they have answered at least 10 questions. The confidence interval\n",
    "is wider than for the other topics are fewer students engage in geometry overall. Again, we observe from the\n",
    "histogram that the dropout rate is high after 4-5 questions, so users give up very fast.\n",
    "  \n",
    "• **Termere**: The learning curve for Terms does not exhibit much trends, which means the performance remains\n",
    "unchanged as users are answering more questions. If the difficulty is not progressively increasing, this could\n",
    "indicate that there is little learning going on, otherwise the difficulty is increased in an adequate way. There\n",
    "is no obvious point at which most users leave, we observe an exponential dropout rate.  \n",
    "\n",
    "Overall BKT provides a good fit, however tends to underestimate the error rate at times. In all of the plots,\n",
    "the fast oscillations in the later stages are due to the reduced sample size as many uses stop practicing"
   ]
  },
  {
   "cell_type": "markdown",
   "id": "895246bb",
   "metadata": {
    "id": "895246bb"
   },
   "source": [
    "### 3.2 Additive Factors Model (AFM)"
   ]
  },
  {
   "cell_type": "code",
   "execution_count": 56,
   "id": "x4ITohouHGog",
   "metadata": {
    "colab": {
     "base_uri": "https://localhost:8080/",
     "height": 353
    },
    "id": "x4ITohouHGog",
    "outputId": "eca3baab-e2c5-4060-b908-e2954db95f3c"
   },
   "outputs": [
    {
     "name": "stdout",
     "output_type": "stream",
     "text": [
      "Overall:\n",
      "  RMSE: 0.480\n",
      "  AUC: 0.651\n",
      "\n",
      "Per Topic:\n",
      "  RMSE: 0.486 (0.009)\n",
      "  AUC: 0.614 (0.044)\n",
      "\n"
     ]
    },
    {
     "data": {
      "text/html": [
       "<div>\n",
       "<style scoped>\n",
       "    .dataframe tbody tr th:only-of-type {\n",
       "        vertical-align: middle;\n",
       "    }\n",
       "\n",
       "    .dataframe tbody tr th {\n",
       "        vertical-align: top;\n",
       "    }\n",
       "\n",
       "    .dataframe thead th {\n",
       "        text-align: right;\n",
       "    }\n",
       "</style>\n",
       "<table border=\"1\" class=\"dataframe\">\n",
       "  <thead>\n",
       "    <tr style=\"text-align: right;\">\n",
       "      <th></th>\n",
       "      <th>rmse</th>\n",
       "      <th>auc</th>\n",
       "    </tr>\n",
       "  </thead>\n",
       "  <tbody>\n",
       "    <tr>\n",
       "      <th>0</th>\n",
       "      <td>0.48096</td>\n",
       "      <td>0.63647</td>\n",
       "    </tr>\n",
       "    <tr>\n",
       "      <th>1</th>\n",
       "      <td>0.49001</td>\n",
       "      <td>0.58182</td>\n",
       "    </tr>\n",
       "    <tr>\n",
       "      <th>2</th>\n",
       "      <td>0.47877</td>\n",
       "      <td>0.66096</td>\n",
       "    </tr>\n",
       "    <tr>\n",
       "      <th>3</th>\n",
       "      <td>0.47951</td>\n",
       "      <td>0.63784</td>\n",
       "    </tr>\n",
       "    <tr>\n",
       "      <th>4</th>\n",
       "      <td>0.50090</td>\n",
       "      <td>0.55450</td>\n",
       "    </tr>\n",
       "  </tbody>\n",
       "</table>\n",
       "</div>"
      ],
      "text/plain": [
       "     rmse     auc\n",
       "0 0.48096 0.63647\n",
       "1 0.49001 0.58182\n",
       "2 0.47877 0.66096\n",
       "3 0.47951 0.63784\n",
       "4 0.50090 0.55450"
      ]
     },
     "execution_count": 56,
     "metadata": {},
     "output_type": "execute_result"
    }
   ],
   "source": [
    "afm_rmse, afm_auc = compute_metrics(X_test, \"pfa_predictions\")\n",
    "afm_metrics_mean, afm_metrics_std, afm_metrics = compute_metrics_per_topic(X_test, \"parent_topic_id\", \"afm_predictions\")\n",
    "\n",
    "print('Overall:')\n",
    "print(f\"  RMSE: {afm_rmse:.3f}\")\n",
    "print(f\"  AUC: {afm_auc:.3f}\\n\")\n",
    "\n",
    "print('Per Topic:')\n",
    "print(f\"  RMSE: {afm_metrics_mean['rmse']:.3f} ({afm_metrics_std['rmse']:.3f})\")\n",
    "print(f\"  AUC: {afm_metrics_mean['auc']:.3f} ({afm_metrics_std['auc']:.3f})\\n\")\n",
    "\n",
    "afm_metrics"
   ]
  },
  {
   "cell_type": "code",
   "execution_count": 57,
   "id": "813d99db",
   "metadata": {
    "colab": {
     "base_uri": "https://localhost:8080/",
     "height": 959
    },
    "id": "813d99db",
    "outputId": "dc7abedf-2bd7-4860-8bce-f09422152a55"
   },
   "outputs": [
    {
     "data": {
      "image/png": "[encoded data removed]",
      "text/plain": [
       "<Figure size 720x360 with 2 Axes>"
      ]
     },
     "metadata": {
      "needs_background": "light"
     },
     "output_type": "display_data"
    },
    {
     "data": {
      "image/png": "[encoded data removed]",
      "text/plain": [
       "<Figure size 720x360 with 2 Axes>"
      ]
     },
     "metadata": {
      "needs_background": "light"
     },
     "output_type": "display_data"
    }
   ],
   "source": [
    "plot_metrics(afm_rmse, afm_metrics['rmse'], afm_auc, afm_metrics['auc'], MAIN_TOPICS)"
   ]
  },
  {
   "cell_type": "markdown",
   "id": "3e321cef",
   "metadata": {
    "id": "3e321cef"
   },
   "source": [
    "**Discussion**  \n",
    "AFM model performs worse on every topics in comparison to BKT. Though, it has the advantage to wrap every topics in one model."
   ]
  },
  {
   "cell_type": "markdown",
   "id": "02e45183",
   "metadata": {
    "id": "02e45183"
   },
   "source": [
    "### 3.3 Performance Factors Analysis (PFA)"
   ]
  },
  {
   "cell_type": "markdown",
   "id": "89db16dc",
   "metadata": {
    "id": "89db16dc"
   },
   "source": [
    "#### 3.3.1 Original PFA"
   ]
  },
  {
   "cell_type": "code",
   "execution_count": 58,
   "id": "df1c10cb",
   "metadata": {
    "colab": {
     "base_uri": "https://localhost:8080/",
     "height": 353
    },
    "id": "df1c10cb",
    "outputId": "0770e3fb-0298-4784-9974-6d12dc5f5e46"
   },
   "outputs": [
    {
     "name": "stdout",
     "output_type": "stream",
     "text": [
      "Overall:\n",
      "  RMSE: 0.480\n",
      "  AUC: 0.651\n",
      "\n",
      "Per Topic:\n",
      "  RMSE: 0.483 (0.011)\n",
      "  AUC: 0.631 (0.046)\n",
      "\n"
     ]
    },
    {
     "data": {
      "text/html": [
       "<div>\n",
       "<style scoped>\n",
       "    .dataframe tbody tr th:only-of-type {\n",
       "        vertical-align: middle;\n",
       "    }\n",
       "\n",
       "    .dataframe tbody tr th {\n",
       "        vertical-align: top;\n",
       "    }\n",
       "\n",
       "    .dataframe thead th {\n",
       "        text-align: right;\n",
       "    }\n",
       "</style>\n",
       "<table border=\"1\" class=\"dataframe\">\n",
       "  <thead>\n",
       "    <tr style=\"text-align: right;\">\n",
       "      <th></th>\n",
       "      <th>rmse</th>\n",
       "      <th>auc</th>\n",
       "    </tr>\n",
       "  </thead>\n",
       "  <tbody>\n",
       "    <tr>\n",
       "      <th>0</th>\n",
       "      <td>0.47710</td>\n",
       "      <td>0.65768</td>\n",
       "    </tr>\n",
       "    <tr>\n",
       "      <th>1</th>\n",
       "      <td>0.48639</td>\n",
       "      <td>0.60247</td>\n",
       "    </tr>\n",
       "    <tr>\n",
       "      <th>2</th>\n",
       "      <td>0.47729</td>\n",
       "      <td>0.66734</td>\n",
       "    </tr>\n",
       "    <tr>\n",
       "      <th>3</th>\n",
       "      <td>0.47408</td>\n",
       "      <td>0.66134</td>\n",
       "    </tr>\n",
       "    <tr>\n",
       "      <th>4</th>\n",
       "      <td>0.50018</td>\n",
       "      <td>0.56368</td>\n",
       "    </tr>\n",
       "  </tbody>\n",
       "</table>\n",
       "</div>"
      ],
      "text/plain": [
       "     rmse     auc\n",
       "0 0.47710 0.65768\n",
       "1 0.48639 0.60247\n",
       "2 0.47729 0.66734\n",
       "3 0.47408 0.66134\n",
       "4 0.50018 0.56368"
      ]
     },
     "execution_count": 58,
     "metadata": {},
     "output_type": "execute_result"
    }
   ],
   "source": [
    "pfa_rmse, pfa_auc = compute_metrics(X_test, \"pfa_predictions\")\n",
    "pfa_metrics_mean, pfa_metrics_std, pfa_metrics = compute_metrics_per_topic(X_test, \"parent_topic_id\", \"pfa_predictions\")\n",
    "\n",
    "print('Overall:')\n",
    "print(f\"  RMSE: {pfa_rmse:.3f}\")\n",
    "print(f\"  AUC: {pfa_auc:.3f}\\n\")\n",
    "\n",
    "print('Per Topic:')\n",
    "print(f\"  RMSE: {pfa_metrics_mean['rmse']:.3f} ({pfa_metrics_std['rmse']:.3f})\")\n",
    "print(f\"  AUC: {pfa_metrics_mean['auc']:.3f} ({pfa_metrics_std['auc']:.3f})\\n\")\n",
    "\n",
    "pfa_metrics"
   ]
  },
  {
   "cell_type": "code",
   "execution_count": 59,
   "id": "85f136f3",
   "metadata": {
    "colab": {
     "base_uri": "https://localhost:8080/",
     "height": 959
    },
    "id": "85f136f3",
    "outputId": "b746bd1d-9928-44c3-c5c9-61db7d80b92d"
   },
   "outputs": [
    {
     "data": {
      "image/png": "[encoded data removed]",
      "text/plain": [
       "<Figure size 720x360 with 2 Axes>"
      ]
     },
     "metadata": {
      "needs_background": "light"
     },
     "output_type": "display_data"
    },
    {
     "data": {
      "image/png": "[encoded data removed]",
      "text/plain": [
       "<Figure size 720x360 with 2 Axes>"
      ]
     },
     "metadata": {
      "needs_background": "light"
     },
     "output_type": "display_data"
    }
   ],
   "source": [
    "plot_metrics(pfa_rmse, pfa_metrics['rmse'], pfa_auc, pfa_metrics['auc'], MAIN_TOPICS)"
   ]
  },
  {
   "cell_type": "markdown",
   "id": "446b1972",
   "metadata": {
    "id": "446b1972"
   },
   "source": [
    "**Discussion**  \n",
    "PFA is slightly more accurate than AFM on every topic, showing that considering correct and wrong answers separatly helps the model to be more accurate in its prediction.  \n",
    "These results motivate the exploration of a PFA model where we would also consider the the partially correct answers in the model separatly from the correct and the wrong answers."
   ]
  },
  {
   "cell_type": "markdown",
   "id": "e6445970",
   "metadata": {
    "id": "e6445970"
   },
   "source": [
    "#### 3.3.2 Extended PFA (with estimated difficulty)"
   ]
  },
  {
   "cell_type": "code",
   "execution_count": 60,
   "id": "c5da7259",
   "metadata": {
    "colab": {
     "base_uri": "https://localhost:8080/",
     "height": 353
    },
    "id": "c5da7259",
    "outputId": "62234dd0-05e4-4f8d-a5e3-b86904b86cb3"
   },
   "outputs": [
    {
     "name": "stdout",
     "output_type": "stream",
     "text": [
      "Overall:\n",
      "  RMSE: 0.479\n",
      "  AUC: 0.656\n",
      "\n",
      "Per Topic:\n",
      "  RMSE: 0.482 (0.011)\n",
      "  AUC: 0.640 (0.040)\n",
      "\n"
     ]
    },
    {
     "data": {
      "text/html": [
       "<div>\n",
       "<style scoped>\n",
       "    .dataframe tbody tr th:only-of-type {\n",
       "        vertical-align: middle;\n",
       "    }\n",
       "\n",
       "    .dataframe tbody tr th {\n",
       "        vertical-align: top;\n",
       "    }\n",
       "\n",
       "    .dataframe thead th {\n",
       "        text-align: right;\n",
       "    }\n",
       "</style>\n",
       "<table border=\"1\" class=\"dataframe\">\n",
       "  <thead>\n",
       "    <tr style=\"text-align: right;\">\n",
       "      <th></th>\n",
       "      <th>rmse</th>\n",
       "      <th>auc</th>\n",
       "    </tr>\n",
       "  </thead>\n",
       "  <tbody>\n",
       "    <tr>\n",
       "      <th>0</th>\n",
       "      <td>0.47714</td>\n",
       "      <td>0.65598</td>\n",
       "    </tr>\n",
       "    <tr>\n",
       "      <th>1</th>\n",
       "      <td>0.48662</td>\n",
       "      <td>0.60167</td>\n",
       "    </tr>\n",
       "    <tr>\n",
       "      <th>2</th>\n",
       "      <td>0.47489</td>\n",
       "      <td>0.67820</td>\n",
       "    </tr>\n",
       "    <tr>\n",
       "      <th>3</th>\n",
       "      <td>0.47324</td>\n",
       "      <td>0.67142</td>\n",
       "    </tr>\n",
       "    <tr>\n",
       "      <th>4</th>\n",
       "      <td>0.49874</td>\n",
       "      <td>0.59392</td>\n",
       "    </tr>\n",
       "  </tbody>\n",
       "</table>\n",
       "</div>"
      ],
      "text/plain": [
       "     rmse     auc\n",
       "0 0.47714 0.65598\n",
       "1 0.48662 0.60167\n",
       "2 0.47489 0.67820\n",
       "3 0.47324 0.67142\n",
       "4 0.49874 0.59392"
      ]
     },
     "execution_count": 60,
     "metadata": {},
     "output_type": "execute_result"
    }
   ],
   "source": [
    "pfa_ed_rmse, pfa_ed_auc = compute_metrics(X_test, \"pfa_ed_predictions\")\n",
    "pfa_ed_metrics_mean, pfa_ed_metrics_std, pfa_ed_metrics = compute_metrics_per_topic(X_test, \"parent_topic_id\", \"pfa_ed_predictions\")\n",
    "\n",
    "print('Overall:')\n",
    "print(f\"  RMSE: {pfa_ed_rmse:.3f}\")\n",
    "print(f\"  AUC: {pfa_ed_auc:.3f}\\n\")\n",
    "\n",
    "print('Per Topic:')\n",
    "print(f\"  RMSE: {pfa_ed_metrics_mean['rmse']:.3f} ({pfa_ed_metrics_std['rmse']:.3f})\")\n",
    "print(f\"  AUC: {pfa_ed_metrics_mean['auc']:.3f} ({pfa_ed_metrics_std['auc']:.3f})\\n\")\n",
    "\n",
    "pfa_ed_metrics"
   ]
  },
  {
   "cell_type": "code",
   "execution_count": 61,
   "id": "6d1e9ec8",
   "metadata": {
    "colab": {
     "base_uri": "https://localhost:8080/",
     "height": 959
    },
    "id": "6d1e9ec8",
    "outputId": "7a570b71-904a-4203-f5b4-38b479e75ed7"
   },
   "outputs": [
    {
     "data": {
      "image/png": "[encoded data removed]",
      "text/plain": [
       "<Figure size 720x360 with 2 Axes>"
      ]
     },
     "metadata": {
      "needs_background": "light"
     },
     "output_type": "display_data"
    },
    {
     "data": {
      "image/png": "[encoded data removed]",
      "text/plain": [
       "<Figure size 720x360 with 2 Axes>"
      ]
     },
     "metadata": {
      "needs_background": "light"
     },
     "output_type": "display_data"
    }
   ],
   "source": [
    "plot_metrics(pfa_ed_rmse, pfa_ed_metrics['rmse'], pfa_ed_auc, pfa_ed_metrics['auc'], MAIN_TOPICS)"
   ]
  },
  {
   "cell_type": "markdown",
   "id": "1494f167",
   "metadata": {
    "id": "1494f167"
   },
   "source": [
    "#### 3.3.3 Extended PFA (with partial evaluation)"
   ]
  },
  {
   "cell_type": "code",
   "execution_count": 62,
   "id": "7d4983e6",
   "metadata": {
    "colab": {
     "base_uri": "https://localhost:8080/",
     "height": 353
    },
    "id": "7d4983e6",
    "outputId": "e65bb21c-2a62-4906-cb6e-7eb327f1493a"
   },
   "outputs": [
    {
     "name": "stdout",
     "output_type": "stream",
     "text": [
      "Overall:\n",
      "  RMSE: 0.422\n",
      "  AUC: 0.516\n",
      "\n",
      "Per Topic:\n",
      "  RMSE: 0.423 (0.016)\n",
      "  AUC: 0.517 (0.018)\n",
      "\n"
     ]
    },
    {
     "data": {
      "text/html": [
       "<div>\n",
       "<style scoped>\n",
       "    .dataframe tbody tr th:only-of-type {\n",
       "        vertical-align: middle;\n",
       "    }\n",
       "\n",
       "    .dataframe tbody tr th {\n",
       "        vertical-align: top;\n",
       "    }\n",
       "\n",
       "    .dataframe thead th {\n",
       "        text-align: right;\n",
       "    }\n",
       "</style>\n",
       "<table border=\"1\" class=\"dataframe\">\n",
       "  <thead>\n",
       "    <tr style=\"text-align: right;\">\n",
       "      <th></th>\n",
       "      <th>rmse</th>\n",
       "      <th>auc</th>\n",
       "    </tr>\n",
       "  </thead>\n",
       "  <tbody>\n",
       "    <tr>\n",
       "      <th>0</th>\n",
       "      <td>0.41435</td>\n",
       "      <td>0.49627</td>\n",
       "    </tr>\n",
       "    <tr>\n",
       "      <th>1</th>\n",
       "      <td>0.44655</td>\n",
       "      <td>0.51336</td>\n",
       "    </tr>\n",
       "    <tr>\n",
       "      <th>2</th>\n",
       "      <td>0.40385</td>\n",
       "      <td>0.51953</td>\n",
       "    </tr>\n",
       "    <tr>\n",
       "      <th>3</th>\n",
       "      <td>0.43007</td>\n",
       "      <td>0.54558</td>\n",
       "    </tr>\n",
       "    <tr>\n",
       "      <th>4</th>\n",
       "      <td>0.42174</td>\n",
       "      <td>0.50880</td>\n",
       "    </tr>\n",
       "  </tbody>\n",
       "</table>\n",
       "</div>"
      ],
      "text/plain": [
       "     rmse     auc\n",
       "0 0.41435 0.49627\n",
       "1 0.44655 0.51336\n",
       "2 0.40385 0.51953\n",
       "3 0.43007 0.54558\n",
       "4 0.42174 0.50880"
      ]
     },
     "execution_count": 62,
     "metadata": {},
     "output_type": "execute_result"
    }
   ],
   "source": [
    "pfa_pe_rmse, pfa_pe_auc = compute_metrics(X_partial_test, \"pfa_pe_predictions\")\n",
    "pfa_pe_metrics_mean, pfa_pe_metrics_std, pfa_pe_metrics = compute_metrics_per_topic(X_partial_test, \"parent_topic_id\", \"pfa_pe_predictions\")\n",
    "\n",
    "print('Overall:')\n",
    "print(f\"  RMSE: {pfa_pe_rmse:.3f}\")\n",
    "print(f\"  AUC: {pfa_pe_auc:.3f}\\n\")\n",
    "\n",
    "print('Per Topic:')\n",
    "print(f\"  RMSE: {pfa_pe_metrics_mean['rmse']:.3f} ({pfa_pe_metrics_std['rmse']:.3f})\")\n",
    "print(f\"  AUC: {pfa_pe_metrics_mean['auc']:.3f} ({pfa_pe_metrics_std['auc']:.3f})\\n\")\n",
    "\n",
    "pfa_pe_metrics"
   ]
  },
  {
   "cell_type": "markdown",
   "id": "b29ccbbe",
   "metadata": {
    "id": "b29ccbbe"
   },
   "source": [
    "#### 3.3.4 Extended PFA (with partial evaluation & estimated difficulty)"
   ]
  },
  {
   "cell_type": "code",
   "execution_count": 63,
   "id": "48df41b0",
   "metadata": {
    "colab": {
     "base_uri": "https://localhost:8080/",
     "height": 353
    },
    "id": "48df41b0",
    "outputId": "4211f03b-6b49-4a8a-cfbb-a0aab0294aea"
   },
   "outputs": [
    {
     "name": "stdout",
     "output_type": "stream",
     "text": [
      "Overall:\n",
      "  RMSE: 0.408\n",
      "  AUC: 0.529\n",
      "\n",
      "Per Topic:\n",
      "  RMSE: 0.410 (0.018)\n",
      "  AUC: 0.524 (0.029)\n",
      "\n"
     ]
    },
    {
     "data": {
      "text/html": [
       "<div>\n",
       "<style scoped>\n",
       "    .dataframe tbody tr th:only-of-type {\n",
       "        vertical-align: middle;\n",
       "    }\n",
       "\n",
       "    .dataframe tbody tr th {\n",
       "        vertical-align: top;\n",
       "    }\n",
       "\n",
       "    .dataframe thead th {\n",
       "        text-align: right;\n",
       "    }\n",
       "</style>\n",
       "<table border=\"1\" class=\"dataframe\">\n",
       "  <thead>\n",
       "    <tr style=\"text-align: right;\">\n",
       "      <th></th>\n",
       "      <th>rmse</th>\n",
       "      <th>auc</th>\n",
       "    </tr>\n",
       "  </thead>\n",
       "  <tbody>\n",
       "    <tr>\n",
       "      <th>0</th>\n",
       "      <td>0.39141</td>\n",
       "      <td>0.48869</td>\n",
       "    </tr>\n",
       "    <tr>\n",
       "      <th>1</th>\n",
       "      <td>0.43557</td>\n",
       "      <td>0.50010</td>\n",
       "    </tr>\n",
       "    <tr>\n",
       "      <th>2</th>\n",
       "      <td>0.39233</td>\n",
       "      <td>0.55643</td>\n",
       "    </tr>\n",
       "    <tr>\n",
       "      <th>3</th>\n",
       "      <td>0.41465</td>\n",
       "      <td>0.53718</td>\n",
       "    </tr>\n",
       "    <tr>\n",
       "      <th>4</th>\n",
       "      <td>0.41405</td>\n",
       "      <td>0.53918</td>\n",
       "    </tr>\n",
       "  </tbody>\n",
       "</table>\n",
       "</div>"
      ],
      "text/plain": [
       "     rmse     auc\n",
       "0 0.39141 0.48869\n",
       "1 0.43557 0.50010\n",
       "2 0.39233 0.55643\n",
       "3 0.41465 0.53718\n",
       "4 0.41405 0.53918"
      ]
     },
     "execution_count": 63,
     "metadata": {},
     "output_type": "execute_result"
    }
   ],
   "source": [
    "pfa_pe_ed_rmse, pfa_pe_ed_auc = compute_metrics(X_partial_test, \"pfa_pe_ed_predictions\")\n",
    "pfa_pe_ed_metrics_mean, pfa_pe_ed_metrics_std, pfa_pe_ed_metrics = compute_metrics_per_topic(X_partial_test, \"parent_topic_id\", \"pfa_pe_ed_predictions\")\n",
    "\n",
    "print('Overall:')\n",
    "print(f\"  RMSE: {pfa_pe_ed_rmse:.3f}\")\n",
    "print(f\"  AUC: {pfa_pe_ed_auc:.3f}\\n\")\n",
    "\n",
    "print('Per Topic:')\n",
    "print(f\"  RMSE: {pfa_pe_ed_metrics_mean['rmse']:.3f} ({pfa_pe_ed_metrics_std['rmse']:.3f})\")\n",
    "print(f\"  AUC: {pfa_pe_ed_metrics_mean['auc']:.3f} ({pfa_pe_ed_metrics_std['auc']:.3f})\\n\")\n",
    "\n",
    "pfa_pe_ed_metrics"
   ]
  },
  {
   "cell_type": "markdown",
   "id": "99e025b1",
   "metadata": {
    "id": "99e025b1"
   },
   "source": [
    "### 3.4 Deep Knowledge Tracing (DKT)"
   ]
  },
  {
   "cell_type": "code",
   "execution_count": 64,
   "id": "68bacf30",
   "metadata": {
    "id": "68bacf30"
   },
   "outputs": [
    {
     "name": "stdout",
     "output_type": "stream",
     "text": [
      "AUC:  0.6746045351028442\n",
      "RMSE:  0.47629600763320923\n"
     ]
    }
   ],
   "source": [
    "print(\"AUC: \", dkt_res['auc'])\n",
    "print(\"RMSE: \", dkt_res['root_mean_squared_error'])"
   ]
  },
  {
   "cell_type": "markdown",
   "id": "bec5a31f",
   "metadata": {
    "id": "bec5a31f"
   },
   "source": [
    "**Discussion**  \n",
    "\n",
    "DKT model yields the highest AUC among the models that are fitted on the whole data (i.e AFM, PFA and DKT). It performs similarly as BKT does, but has the benefit to include every topics in one model. We would have expected an even result for DKT and think that the following elements might have an impact on the performance of DKT:\n",
    "\n",
    "* DKT is a **deep** neural network and therefore requires much more data than the other models that have a lot less parameters.\n",
    "* The quality of the data may not be very high as we have taken all data available from Learnavi and therefore there might be an upper bound on how much an ideal model would perform on these data. It may be be worth considering a subset of the data where the users completed the tasks in a more controlled environnement (cf. class feature)."
   ]
  },
  {
   "cell_type": "markdown",
   "id": "d768e023",
   "metadata": {},
   "source": []
  }
 ],
 "metadata": {
  "accelerator": "GPU",
  "colab": {
   "collapsed_sections": [],
   "name": "Classtime (Ed).ipynb",
   "provenance": []
  },
  "interpreter": {
   "hash": "99de04f9a14653602d840f3ae55a7941086ad265430e4e38152d637364e75c2b"
  },
  "kernelspec": {
   "display_name": "Python 3",
   "language": "python",
   "name": "python3"
  },
  "language_info": {
   "codemirror_mode": {
    "name": "ipython",
    "version": 3
   },
   "file_extension": ".py",
   "mimetype": "text/x-python",
   "name": "python",
   "nbconvert_exporter": "python",
   "pygments_lexer": "ipython3",
   "version": "3.7.11"
  }
 },
 "nbformat": 4,
 "nbformat_minor": 5
}
